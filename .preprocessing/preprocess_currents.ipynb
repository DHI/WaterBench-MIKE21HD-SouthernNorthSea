{
 "cells": [
  {
   "cell_type": "code",
   "execution_count": 2,
   "metadata": {},
   "outputs": [],
   "source": [
    "import pandas as pd\n",
    "import numpy as np\n",
    "import time\n",
    "import netCDF4 as nc\n",
    "import datetime"
   ]
  },
  {
   "cell_type": "code",
   "execution_count": 3,
   "metadata": {},
   "outputs": [],
   "source": [
    "# There are several data points on the same day.\n",
    "# We assume that data is uniformly distributed across the day.\n",
    "# We will add a small time increment to each data point to make them unique.\n",
    "\n",
    "def add_time_stamps(df):\n",
    "    # Resample dates with duplicate indices by adding hours and minutes\n",
    "    # Find duplicate dates in index\n",
    "    duplicate_dates = df.index[df.index.duplicated(keep=False)]\n",
    "    \n",
    "    for date in set(duplicate_dates):\n",
    "        duplicates = df.loc[date]\n",
    "        # Calculate time increment based on the number of duplicates\n",
    "        num_duplicates = len(duplicates)\n",
    "        time_increment = datetime.timedelta(days=1) / num_duplicates\n",
    "\n",
    "        # Assign new unique timestamps to each duplicate\n",
    "        times = [date + i * time_increment for i in range(len(duplicates))]\n",
    "        df.loc[date, 'new_index'] = times\n",
    "    \n",
    "    # Set the new unique datetime index\n",
    "    df.set_index('new_index', inplace=True)\n",
    "    df.index.name = 'datetime'  # Rename the index for clarity\n",
    "    \n",
    "    return df"
   ]
  },
  {
   "cell_type": "code",
   "execution_count": 4,
   "metadata": {},
   "outputs": [],
   "source": [
    "def load_and_save_CMEMS_data(obs_dir,platform_name):\n",
    "\n",
    "    all_wl_list = []\n",
    "    longitudes = []\n",
    "    latitudes = []\n",
    "    for o in obs_dir:\n",
    "        ds = nc.Dataset(o)\n",
    "        formatted_time = []\n",
    "        start = datetime.date(1950,1,1)\n",
    "        for days in ds[\"TIME\"][:].data:\n",
    "            formatted_time.append(start + datetime.timedelta(days = days))\n",
    "\n",
    "        data = ds[\"SLEV\"][:].data.squeeze().tolist()\n",
    "        lon = np.nanmean(ds[\"LONGITUDE\"][:].data)\n",
    "        lat = np.nanmean(ds[\"LATITUDE\"][:].data)\n",
    "        longitudes.append(lon)\n",
    "        latitudes.append(lat) \n",
    "\n",
    "        wl = pd.DataFrame({\"slev\": data}, index = pd.DatetimeIndex(formatted_time))\n",
    "        quality_filter = ds[\"SLEV_QC\"][:].data<=2\n",
    "        wl = wl[quality_filter]\n",
    "        wl = wl.drop(wl[wl['slev'] < -100].index)# Remove invalid values\n",
    "        wl[\"slev\"] = wl[\"slev\"]-np.mean(wl[\"slev\"])# Center around zero\n",
    "\n",
    "        #  Add timestamps\n",
    "        wl = add_time_stamps(wl)\n",
    "        \n",
    "        all_wl_list.append(wl)\n",
    "\n",
    "    all_wl=pd.concat(all_wl_list)\n",
    "    # Replace missing entries with nan such that we have a full date time index\n",
    "    all_wl = all_wl.set_index(all_wl.index).resample('10min').sum().replace(0.00, np.nan) \n",
    "    # Rolling mean value\n",
    "    all_wl_rollmean = all_wl.rolling(window='30min',closed=\"left\").mean()[::3]\n",
    "    all_wl_rollmean = np.round(all_wl_rollmean.dropna(),decimals=4)\n",
    "    all_wl_rollmean.index.name = \"datetime_UTC\"\n",
    "    all_wl_rollmean.columns = [\"water_level\"]\n",
    "    all_wl_rollmean.to_csv(f\"../observations/{platform_name}_wl.csv\")\n",
    "\n",
    "    locations = pd.DataFrame({\"station\": [platform_name],\n",
    "                              \"longitude\": [np.round(np.mean(longitudes),decimals=6)],\n",
    "                              \"latitude\": [np.round(np.mean(latitudes),decimals=6)]})\n",
    "    locations_all = pd.read_csv(\"../observations/stations.csv\",index_col=0)\n",
    "    locations_all = pd.concat([locations_all,locations])\n",
    "    locations_all.to_csv(\"../observations/stations.csv\")\n",
    "\n",
    "    return all_wl_rollmean,all_wl"
   ]
  },
  {
   "cell_type": "markdown",
   "metadata": {},
   "source": [
    "List of remaining platforms:\n",
    "- [] DB\n",
    "- [] MO\n",
    "- [] IJmondstroompaal2      GOOD"
   ]
  },
  {
   "cell_type": "markdown",
   "metadata": {},
   "source": [
    "# DB"
   ]
  },
  {
   "cell_type": "code",
   "execution_count": 8,
   "metadata": {},
   "outputs": [
    {
     "data": {
      "text/plain": [
       "dict_keys(['TIME', 'TIME_QC', 'LATITUDE', 'LONGITUDE', 'POSITION_QC', 'DC_REFERENCE', 'TRAJECTORY', 'DEPH', 'TEMP', 'TEMP_QC', 'EWCT', 'EWCT_QC', 'NSCT', 'NSCT_QC'])"
      ]
     },
     "execution_count": 8,
     "metadata": {},
     "output_type": "execute_result"
    }
   ],
   "source": [
    "# The modelskill package can be used to compare model results with observations.\n",
    "# For more info on modelskill, see https://github.com/DHI/modelskill\n",
    "obs_fldr = \"raw_data/CMEMS/\"\n",
    "# Collect observation directories in list\n",
    "obs_dir = [f\"{obs_fldr}GL_TS_DB_6301615.nc\"]\n",
    "\n",
    "ds = nc.Dataset(obs_dir[0])\n",
    "ds.variables.keys()"
   ]
  },
  {
   "cell_type": "code",
   "execution_count": 9,
   "metadata": {},
   "outputs": [
    {
     "data": {
      "text/plain": [
       "<class 'netCDF4.Variable'>\n",
       "float32 EWCT(TIME, DEPTH)\n",
       "    _FillValue: 9.96921e+36\n",
       "    long_name: West-east current component\n",
       "    standard_name: eastward_sea_water_velocity\n",
       "    units: m s-1\n",
       "    coordinates: TIME LATITUDE LONGITUDE DEPH TRAJECTORY\n",
       "    data_mode: R\n",
       "    ancillary_variables: EWCT_QC\n",
       "unlimited dimensions: \n",
       "current shape = (77920, 2)\n",
       "filling on"
      ]
     },
     "execution_count": 9,
     "metadata": {},
     "output_type": "execute_result"
    }
   ],
   "source": [
    "# u current\n",
    "ds[\"EWCT\"]"
   ]
  },
  {
   "cell_type": "code",
   "execution_count": 10,
   "metadata": {},
   "outputs": [
    {
     "data": {
      "text/plain": [
       "<class 'netCDF4.Variable'>\n",
       "float32 NSCT(TIME, DEPTH)\n",
       "    _FillValue: 9.96921e+36\n",
       "    long_name: South-north current component\n",
       "    standard_name: northward_sea_water_velocity\n",
       "    units: m s-1\n",
       "    coordinates: TIME LATITUDE LONGITUDE DEPH TRAJECTORY\n",
       "    data_mode: R\n",
       "    ancillary_variables: NSCT_QC\n",
       "unlimited dimensions: \n",
       "current shape = (77920, 2)\n",
       "filling on"
      ]
     },
     "execution_count": 10,
     "metadata": {},
     "output_type": "execute_result"
    }
   ],
   "source": [
    "ds[\"NSCT\"]"
   ]
  },
  {
   "cell_type": "markdown",
   "metadata": {},
   "source": [
    "# MO"
   ]
  },
  {
   "cell_type": "code",
   "execution_count": 11,
   "metadata": {},
   "outputs": [
    {
     "data": {
      "text/plain": [
       "dict_keys(['TIME', 'TIME_QC', 'DEPH', 'LATITUDE', 'LONGITUDE', 'STATION', 'OSAT', 'OSAT_QC', 'OSAT_DM', 'TEMP', 'TEMP_QC', 'TEMP_DM', 'HCSP', 'HCSP_QC', 'HCDT', 'HCDT_QC', 'PSAL', 'PSAL_QC', 'PSAL_DM'])"
      ]
     },
     "execution_count": 11,
     "metadata": {},
     "output_type": "execute_result"
    }
   ],
   "source": [
    "\n",
    "obs_fldr = \"raw_data/CMEMS/\"\n",
    "# Collect observation directories in list\n",
    "obs_dir = [f\"{obs_fldr}NO_TS_MO_6201065.nc\"]\n",
    "\n",
    "ds = nc.Dataset(obs_dir[0])\n",
    "ds.variables.keys()"
   ]
  },
  {
   "cell_type": "code",
   "execution_count": 12,
   "metadata": {},
   "outputs": [
    {
     "data": {
      "text/plain": [
       "<class 'netCDF4.Variable'>\n",
       "float32 HCSP(TIME, DEPTH)\n",
       "    standard_name: sea_water_speed\n",
       "    units: m s-1\n",
       "    _FillValue: 9.96921e+36\n",
       "    long_name: Horizontal current speed\n",
       "    valid_min: 0.001\n",
       "    valid_max: 1.5\n",
       "    coordinates: TIME LATITUDE LONGITUDE DEPH STATION\n",
       "    ancillary_variables: HCSP_QC\n",
       "    data_mode: R\n",
       "unlimited dimensions: \n",
       "current shape = (1193772, 30)\n",
       "filling off"
      ]
     },
     "execution_count": 12,
     "metadata": {},
     "output_type": "execute_result"
    }
   ],
   "source": [
    "ds[\"HCSP\"]"
   ]
  },
  {
   "cell_type": "code",
   "execution_count": 13,
   "metadata": {},
   "outputs": [
    {
     "data": {
      "text/plain": [
       "<class 'netCDF4.Variable'>\n",
       "float32 HCDT(TIME, DEPTH)\n",
       "    standard_name: direction_of_sea_water_velocity\n",
       "    units: degree\n",
       "    _FillValue: 9.96921e+36\n",
       "    long_name: Current to direction relative true north\n",
       "    valid_min: 0.0\n",
       "    valid_max: 360.0\n",
       "    coordinates: TIME LATITUDE LONGITUDE DEPH STATION\n",
       "    ancillary_variables: HCDT_QC\n",
       "    data_mode: R\n",
       "unlimited dimensions: \n",
       "current shape = (1193772, 30)\n",
       "filling off"
      ]
     },
     "execution_count": 13,
     "metadata": {},
     "output_type": "execute_result"
    }
   ],
   "source": [
    "ds[\"HCDT\"]"
   ]
  },
  {
   "cell_type": "markdown",
   "metadata": {},
   "source": [
    "# IJmondstroompaal2"
   ]
  },
  {
   "cell_type": "code",
   "execution_count": 14,
   "metadata": {},
   "outputs": [
    {
     "data": {
      "text/plain": [
       "dict_keys(['TIME', 'TIME_QC', 'DEPH', 'LATITUDE', 'LONGITUDE', 'STATION', 'HCSP', 'HCSP_QC', 'HCDT', 'HCDT_QC'])"
      ]
     },
     "execution_count": 14,
     "metadata": {},
     "output_type": "execute_result"
    }
   ],
   "source": [
    "obs_fldr = \"raw_data/CMEMS/\"\n",
    "# Collect observation directories in list\n",
    "obs_dir = [f\"{obs_fldr}NO_TS_MO_IJmondstroompaal2.nc\"]\n",
    "\n",
    "ds = nc.Dataset(obs_dir[0])\n",
    "ds.variables.keys()"
   ]
  },
  {
   "cell_type": "code",
   "execution_count": null,
   "metadata": {},
   "outputs": [],
   "source": []
  }
 ],
 "metadata": {
  "kernelspec": {
   "display_name": "WBOresund",
   "language": "python",
   "name": "python3"
  },
  "language_info": {
   "codemirror_mode": {
    "name": "ipython",
    "version": 3
   },
   "file_extension": ".py",
   "mimetype": "text/x-python",
   "name": "python",
   "nbconvert_exporter": "python",
   "pygments_lexer": "ipython3",
   "version": "3.12.8"
  }
 },
 "nbformat": 4,
 "nbformat_minor": 2
}
