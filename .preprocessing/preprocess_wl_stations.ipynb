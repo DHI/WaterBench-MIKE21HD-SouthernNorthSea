{
 "cells": [
  {
   "cell_type": "code",
   "execution_count": 1,
   "metadata": {},
   "outputs": [],
   "source": [
    "\n",
    "import pandas as pd\n",
    "import numpy as np\n",
    "import time\n",
    "import netCDF4 as nc"
   ]
  },
  {
   "cell_type": "markdown",
   "metadata": {},
   "source": [
    "# NWA"
   ]
  },
  {
   "cell_type": "code",
   "execution_count": 4,
   "metadata": {},
   "outputs": [
    {
     "data": {
      "text/plain": [
       "<class 'netCDF4.Dataset'>\n",
       "root group (NETCDF3_CLASSIC data model, file format NETCDF3):\n",
       "    Conventions: MetOcean/v3\n",
       "    client: RVO\n",
       "    project: J3707\n",
       "    location: NW A\n",
       "    logging_system: mantacom\n",
       "    history: Thu Jul 21 15:58:28 2022: ncatted -O -a height_ref,DepthHeight,o,c,LAT NWTideA.2022.06.QC_dataReturn.nc\n",
       "2022-07-01 14:47:14 [CJC] moecat 42674 with args: NWTideA.2022.06.Standby.QC_dataReturn.nc NWTideA.2022.06.Main.QC_dataReturn.nc --output=NWTideA.2022.06.QC_dataReturn.nc\n",
       "2022-07-04 16:09:11 [JTL] edited in moeqc\n",
       "2022-07-05 09:09:07 [JTL] edited in moeqc\n",
       "2022-07-05 10:15:44 [JTL] edited in moeqc\n",
       "2022-07-05 14:03:25 [JTL] edited in moeqc\n",
       "2022-07-05 14:15:11 [JTL] edited in moeqc\n",
       "2022-07-05 14:27:10 [JTL] edited in moeqc\n",
       "2022-07-07 17:28:00 [noreikas] edited in moeqc\n",
       "2022-07-08 11:32:30 [noreikas] edited in moeqc\n",
       "2022-07-08 11:33:06 [noreikas] edited in moeqc\n",
       "Processed with ncsetscalar DepthHeight -29.1 by CJC on Thu Jul 21 16:37:32 2022\n",
       "    df_name: NWTideA\n",
       "    arrival_mechanism: http\n",
       "    df_acq_time: 2022-06-02T08:17:44.822+08:00\n",
       "    df_id: 85ee2583-80b2-380f-9195-fdda091b1b88\n",
       "    transport_provider: iridium\n",
       "    expected_record_interval: 600.0\n",
       "    df_stream_name: rudics\n",
       "    data_origin: measured\n",
       "    df_as_logged_tz: 0.0\n",
       "    data_type: water_level\n",
       "    data_dimension: point\n",
       "    quality_level: visual\n",
       "    dimensions(sizes): records(4266)\n",
       "    variables(dimensions): int32 Time(records), float64 DepthHeight(), float64 Height(), float64 RefLatitude(), float64 RefLongitude(), float64 Distance(records), float64 EllipsoidHeight(records), int8 EllipsoidHeightQual(records), float64 Latitude(records), float64 Longitude(records), float64 SigmaHeight(records), int8 SigmaHeightQual(records), float64 TideHeight(records), int8 TideHeightQual(records)\n",
       "    groups: "
      ]
     },
     "execution_count": 4,
     "metadata": {},
     "output_type": "execute_result"
    }
   ],
   "source": [
    "obs_fldr = \"raw_data/NWA/\"\n",
    "# Collect observation directories in list\n",
    "obs_dir = [f\"{obs_fldr}NWTideA.2022.06.QC_dataReturn.Rev0.nc\"]\n",
    "\n",
    "ds = nc.Dataset(obs_dir[0])\n",
    "ds"
   ]
  },
  {
   "cell_type": "code",
   "execution_count": 5,
   "metadata": {},
   "outputs": [
    {
     "data": {
      "text/plain": [
       "<class 'netCDF4.Variable'>\n",
       "int32 Time(records)\n",
       "    long_name: Time\n",
       "    units: seconds since 1970-01-01T00:00:00+0000\n",
       "unlimited dimensions: records\n",
       "current shape = (4266,)\n",
       "filling on, default _FillValue of -2147483647 used"
      ]
     },
     "execution_count": 5,
     "metadata": {},
     "output_type": "execute_result"
    }
   ],
   "source": [
    "ds[\"Time\"]"
   ]
  },
  {
   "cell_type": "code",
   "execution_count": 7,
   "metadata": {},
   "outputs": [],
   "source": [
    "obs_fldr = \"raw_data/NWA/\"\n",
    "# Collect observation directories in list\n",
    "obs_dir = [f\"{obs_fldr}NWTideA.2022.06.QC_dataReturn.Rev0.nc\",\n",
    "           f\"{obs_fldr}NWTideA.2022.07.QC_dataReturn.Rev0.nc\",\n",
    "           f\"{obs_fldr}NWTideA.2022.08.QC_dataReturn.Rev0.nc\",\n",
    "           f\"{obs_fldr}NWTideA.2022.09.QC_dataReturn.Rev0.nc\",\n",
    "           f\"{obs_fldr}NWTideA.2022.10.QC_dataReturn.Rev0.nc\",\n",
    "           f\"{obs_fldr}NWTideA.2022.11.QC_dataReturn.Rev0.part1.nc\",\n",
    "           f\"{obs_fldr}NWTideA.2022.11.QC_dataReturn.Rev0.part2.nc\",\n",
    "           f\"{obs_fldr}NWTideA.2022.12.QC_dataReturn.Rev0.nc\",\n",
    "           f\"{obs_fldr}NWTideA.2023.01.QC_dataReturn.Rev0.nc\",\n",
    "           f\"{obs_fldr}J3707_11_NW-A1_D03.Tide.2023.02.QC_dataReturn.Rev1.nc\",\n",
    "           f\"{obs_fldr}J3707_11_NW-A1_D03.Tide.2023.03.QC_dataReturn.Rev0.nc\",\n",
    "           f\"{obs_fldr}J3707_11_NW-A1_D03.Tide.2023.04.QC_dataReturn.Rev1.nc\", \n",
    "           f\"{obs_fldr}J3707_11_NW-A1_D03.Tide.2023.05.QC_dataReturn.Rev0.nc\",\n",
    "           f\"{obs_fldr}J3707_11_NW-A1_D03.Tide.2023.06.QC_dataReturn.Rev0.nc\",\n",
    "           f\"{obs_fldr}J3707_11_NW-A1_D03.Tide.2023.07.QC_dataReturn.Rev0.nc\",\n",
    "           f\"{obs_fldr}J3707_11_NW-A1_D03.Tide.2023.08.QC_dataReturn.Rev0.nc\",\n",
    "           f\"{obs_fldr}J3707_11_NW-A1_D03.Tide.2023.09.QC_dataReturn.Rev0.nc\",\n",
    "           f\"{obs_fldr}J3707_11_NW-A1_D03.Tide.2023.10.QC_dataReturn.Rev0.nc\",\n",
    "           f\"{obs_fldr}J3707_18_NW-A2_D04.Tide.2023.11.QC_dataReturn.Rev0.nc\",\n",
    "           f\"{obs_fldr}J3707_18_NW-A2_D04.Tide.2023.12.QC_dataReturn.Rev0.nc\"]\n",
    "\n",
    "all_tide_list = []\n",
    "longitudes = []\n",
    "latitudes = []\n",
    "for o in obs_dir:\n",
    "    ds = nc.Dataset(o)\n",
    "    formatted_time = []\n",
    "    for epoch_time in ds[\"Time\"][:].data:\n",
    "        formatted_time.append(time.strftime('%Y-%m-%d %H:%M:%S', time.gmtime(epoch_time)))\n",
    "\n",
    "    data = ds[\"TideHeight\"][:].data.tolist()\n",
    "    if len(ds[\"Longitude\"][:].data.shape) >0:\n",
    "        lon = ds[\"RefLongitude\"][:].data.item()\n",
    "        lat = ds[\"RefLatitude\"][:].data.item()\n",
    "    else:\n",
    "        lon = ds[\"Longitude\"][:].data.item()\n",
    "        lat = ds[\"Latitude\"][:].data.item()\n",
    "    longitudes.append(lon)\n",
    "    latitudes.append(lat) \n",
    "\n",
    "    tide = pd.DataFrame({\"tide\": data},index= pd.DatetimeIndex(formatted_time))\n",
    "    \n",
    "    if \"TideHeightQual\" in ds.variables:\n",
    "        quality_filter = ds.variables[\"TideHeightQual\"][:].data<2 # Quality filter\n",
    "        tide = tide[quality_filter]\n",
    "    tide = tide.drop(tide[tide['tide'] < -100].index)# Remove invalid values\n",
    "    tide[\"tide\"] = tide[\"tide\"]-np.mean(tide[\"tide\"])# Center around zero\n",
    "    all_tide_list.append(tide)\n",
    "\n",
    "all_tide=pd.concat(all_tide_list)\n",
    "# Replace missing entries with nan such that we have a full date time index\n",
    "all_tide = all_tide.set_index(all_tide.index).resample('10min').sum().replace(0.00, np.nan) \n"
   ]
  },
  {
   "cell_type": "code",
   "execution_count": 8,
   "metadata": {},
   "outputs": [
    {
     "data": {
      "text/plain": [
       "[3.13108,\n",
       " 3.13108,\n",
       " 3.13108,\n",
       " 3.13108,\n",
       " 3.13108,\n",
       " 3.130933,\n",
       " 3.13108,\n",
       " 3.1311,\n",
       " 3.1311,\n",
       " 3.1311,\n",
       " 3.1311,\n",
       " 3.140433,\n",
       " 3.141667,\n",
       " 3.141667,\n",
       " 3.141667,\n",
       " 3.141667,\n",
       " 3.141667,\n",
       " 3.141667,\n",
       " 3.141667,\n",
       " 3.141667]"
      ]
     },
     "execution_count": 8,
     "metadata": {},
     "output_type": "execute_result"
    }
   ],
   "source": [
    "longitudes"
   ]
  },
  {
   "cell_type": "code",
   "execution_count": 9,
   "metadata": {},
   "outputs": [
    {
     "data": {
      "text/plain": [
       "[53.379,\n",
       " 53.379,\n",
       " 53.379,\n",
       " 53.379,\n",
       " 53.379,\n",
       " 53.379083,\n",
       " 53.379,\n",
       " 53.38793,\n",
       " 53.38793,\n",
       " 53.38793,\n",
       " 53.38793,\n",
       " 53.3800083,\n",
       " 53.380278,\n",
       " 53.380278,\n",
       " 53.380278,\n",
       " 53.380278,\n",
       " 53.380278,\n",
       " 53.380278,\n",
       " 53.380278,\n",
       " 53.380278]"
      ]
     },
     "execution_count": 9,
     "metadata": {},
     "output_type": "execute_result"
    }
   ],
   "source": [
    "latitudes"
   ]
  },
  {
   "cell_type": "code",
   "execution_count": 10,
   "metadata": {},
   "outputs": [],
   "source": [
    "# Calculate rolling mean value\n",
    "all_tide_rollmean = all_tide.rolling(window='30min',closed=\"left\").mean()[::3]\n",
    "all_tide_rollmean = all_tide_rollmean.dropna()"
   ]
  },
  {
   "cell_type": "code",
   "execution_count": 15,
   "metadata": {},
   "outputs": [
    {
     "data": {
      "text/html": [
       "<div>\n",
       "<style scoped>\n",
       "    .dataframe tbody tr th:only-of-type {\n",
       "        vertical-align: middle;\n",
       "    }\n",
       "\n",
       "    .dataframe tbody tr th {\n",
       "        vertical-align: top;\n",
       "    }\n",
       "\n",
       "    .dataframe thead th {\n",
       "        text-align: right;\n",
       "    }\n",
       "</style>\n",
       "<table border=\"1\" class=\"dataframe\">\n",
       "  <thead>\n",
       "    <tr style=\"text-align: right;\">\n",
       "      <th></th>\n",
       "      <th>water_level</th>\n",
       "    </tr>\n",
       "    <tr>\n",
       "      <th>datetime_UTC</th>\n",
       "      <th></th>\n",
       "    </tr>\n",
       "  </thead>\n",
       "  <tbody>\n",
       "    <tr>\n",
       "      <th>2022-06-01 00:30:00</th>\n",
       "      <td>-0.564305</td>\n",
       "    </tr>\n",
       "    <tr>\n",
       "      <th>2022-06-01 01:00:00</th>\n",
       "      <td>-0.654954</td>\n",
       "    </tr>\n",
       "    <tr>\n",
       "      <th>2022-06-01 01:30:00</th>\n",
       "      <td>-0.719913</td>\n",
       "    </tr>\n",
       "    <tr>\n",
       "      <th>2022-06-01 02:00:00</th>\n",
       "      <td>-0.668996</td>\n",
       "    </tr>\n",
       "    <tr>\n",
       "      <th>2022-06-01 02:30:00</th>\n",
       "      <td>-0.638410</td>\n",
       "    </tr>\n",
       "    <tr>\n",
       "      <th>...</th>\n",
       "      <td>...</td>\n",
       "    </tr>\n",
       "    <tr>\n",
       "      <th>2023-12-31 21:00:00</th>\n",
       "      <td>0.698281</td>\n",
       "    </tr>\n",
       "    <tr>\n",
       "      <th>2023-12-31 21:30:00</th>\n",
       "      <td>0.742834</td>\n",
       "    </tr>\n",
       "    <tr>\n",
       "      <th>2023-12-31 22:00:00</th>\n",
       "      <td>0.775261</td>\n",
       "    </tr>\n",
       "    <tr>\n",
       "      <th>2023-12-31 22:30:00</th>\n",
       "      <td>0.726169</td>\n",
       "    </tr>\n",
       "    <tr>\n",
       "      <th>2023-12-31 23:30:00</th>\n",
       "      <td>0.488162</td>\n",
       "    </tr>\n",
       "  </tbody>\n",
       "</table>\n",
       "<p>26290 rows × 1 columns</p>\n",
       "</div>"
      ],
      "text/plain": [
       "                     water_level\n",
       "datetime_UTC                    \n",
       "2022-06-01 00:30:00    -0.564305\n",
       "2022-06-01 01:00:00    -0.654954\n",
       "2022-06-01 01:30:00    -0.719913\n",
       "2022-06-01 02:00:00    -0.668996\n",
       "2022-06-01 02:30:00    -0.638410\n",
       "...                          ...\n",
       "2023-12-31 21:00:00     0.698281\n",
       "2023-12-31 21:30:00     0.742834\n",
       "2023-12-31 22:00:00     0.775261\n",
       "2023-12-31 22:30:00     0.726169\n",
       "2023-12-31 23:30:00     0.488162\n",
       "\n",
       "[26290 rows x 1 columns]"
      ]
     },
     "execution_count": 15,
     "metadata": {},
     "output_type": "execute_result"
    }
   ],
   "source": [
    "all_tide_rollmean.index.name = \"datetime_UTC\"\n",
    "all_tide_rollmean.columns = [\"water_level\"]\n",
    "all_tide_rollmean"
   ]
  },
  {
   "cell_type": "code",
   "execution_count": 17,
   "metadata": {},
   "outputs": [],
   "source": [
    "all_tide_rollmean.to_csv(f\"../observations/NWA_wl.csv\")"
   ]
  },
  {
   "cell_type": "code",
   "execution_count": 18,
   "metadata": {},
   "outputs": [],
   "source": [
    "locations_NWA = pd.DataFrame({\"station\": [\"NWA\"],\n",
    "                              \"longitude\": [np.round(np.mean(longitudes),decimals=6)],\n",
    "                              \"latitude\": [np.round(np.mean(latitudes),decimals=6)]})\n",
    "# locations_NWA.to_csv(\"../../MIKE21HD_DutchCoast/data/observations/NWA_locations.csv\")"
   ]
  },
  {
   "cell_type": "code",
   "execution_count": 19,
   "metadata": {},
   "outputs": [
    {
     "data": {
      "text/html": [
       "<div>\n",
       "<style scoped>\n",
       "    .dataframe tbody tr th:only-of-type {\n",
       "        vertical-align: middle;\n",
       "    }\n",
       "\n",
       "    .dataframe tbody tr th {\n",
       "        vertical-align: top;\n",
       "    }\n",
       "\n",
       "    .dataframe thead th {\n",
       "        text-align: right;\n",
       "    }\n",
       "</style>\n",
       "<table border=\"1\" class=\"dataframe\">\n",
       "  <thead>\n",
       "    <tr style=\"text-align: right;\">\n",
       "      <th></th>\n",
       "      <th>station</th>\n",
       "      <th>longitude</th>\n",
       "      <th>latitude</th>\n",
       "    </tr>\n",
       "  </thead>\n",
       "  <tbody>\n",
       "    <tr>\n",
       "      <th>0</th>\n",
       "      <td>NWA</td>\n",
       "      <td>3.135779</td>\n",
       "      <td>53.381352</td>\n",
       "    </tr>\n",
       "  </tbody>\n",
       "</table>\n",
       "</div>"
      ],
      "text/plain": [
       "  station  longitude   latitude\n",
       "0     NWA   3.135779  53.381352"
      ]
     },
     "execution_count": 19,
     "metadata": {},
     "output_type": "execute_result"
    }
   ],
   "source": [
    "locations_NWA"
   ]
  },
  {
   "cell_type": "markdown",
   "metadata": {},
   "source": [
    "# IJVA"
   ]
  },
  {
   "cell_type": "code",
   "execution_count": 20,
   "metadata": {},
   "outputs": [
    {
     "data": {
      "text/plain": [
       "{'Time': <class 'netCDF4.Variable'>\n",
       " float64 Time(records)\n",
       "     long_name: Time\n",
       "     units: seconds since 1970-01-01T00:00:00.000Z\n",
       " unlimited dimensions: records\n",
       " current shape = (4257,)\n",
       " filling on, default _FillValue of 9.969209968386869e+36 used,\n",
       " 'EllipsoidHeight': <class 'netCDF4.Variable'>\n",
       " float64 EllipsoidHeight(records)\n",
       "     missing_value: -1.9938419936773738e+37\n",
       "     _FillValue: -1.9938419936773738e+37\n",
       "     coordinates: Time Longitude Latitude\n",
       "     description: Height above Ellipsoid\n",
       "     units: m\n",
       "     quality_variable: EllipsoidHeightQual\n",
       "     long_name: Ellipsoid Height\n",
       " unlimited dimensions: records\n",
       " current shape = (4257,)\n",
       " filling on,\n",
       " 'SigmaHeight': <class 'netCDF4.Variable'>\n",
       " float64 SigmaHeight(records)\n",
       "     missing_value: -1.9938419936773738e+37\n",
       "     _FillValue: -1.9938419936773738e+37\n",
       "     coordinates: Time Longitude Latitude\n",
       "     description: Height standard deviation\n",
       "     units: m\n",
       "     quality_variable: SigmaHeightQual\n",
       "     long_name: Sigma Height\n",
       " unlimited dimensions: records\n",
       " current shape = (4257,)\n",
       " filling on,\n",
       " 'Latitude': <class 'netCDF4.Variable'>\n",
       " float64 Latitude(records)\n",
       "     missing_value: -1.9938419936773738e+37\n",
       "     _FillValue: -1.9938419936773738e+37\n",
       "     units: degrees_N\n",
       "     long_name: Latitude\n",
       " unlimited dimensions: records\n",
       " current shape = (4257,)\n",
       " filling on,\n",
       " 'Height': <class 'netCDF4.Variable'>\n",
       " float64 Height()\n",
       "     height_ref: AMSL\n",
       "     units: m\n",
       "     long_name: Height\n",
       " unlimited dimensions: \n",
       " current shape = ()\n",
       " filling on, default _FillValue of 9.969209968386869e+36 used,\n",
       " 'RefLongitude': <class 'netCDF4.Variable'>\n",
       " float64 RefLongitude()\n",
       "     units: degrees_E\n",
       "     long_name: Reference Longitude\n",
       " unlimited dimensions: \n",
       " current shape = ()\n",
       " filling on, default _FillValue of 9.969209968386869e+36 used,\n",
       " 'RefLatitude': <class 'netCDF4.Variable'>\n",
       " float64 RefLatitude()\n",
       "     units: degrees_N\n",
       "     long_name: Reference Latitude\n",
       " unlimited dimensions: \n",
       " current shape = ()\n",
       " filling on, default _FillValue of 9.969209968386869e+36 used,\n",
       " 'Longitude': <class 'netCDF4.Variable'>\n",
       " float64 Longitude(records)\n",
       "     missing_value: -1.9938419936773738e+37\n",
       "     _FillValue: -1.9938419936773738e+37\n",
       "     units: degrees_E\n",
       "     long_name: Longitude\n",
       " unlimited dimensions: records\n",
       " current shape = (4257,)\n",
       " filling on,\n",
       " 'DepthHeight': <class 'netCDF4.Variable'>\n",
       " float64 DepthHeight()\n",
       "     height_ref: LAT\n",
       "     units: m\n",
       " unlimited dimensions: \n",
       " current shape = ()\n",
       " filling on, default _FillValue of 9.969209968386869e+36 used,\n",
       " 'TideHeight': <class 'netCDF4.Variable'>\n",
       " float64 TideHeight(records)\n",
       "     missing_value: -1.9938419936773738e+37\n",
       "     _FillValue: -1.9938419936773738e+37\n",
       "     units: m\n",
       "     df_post_process: \n",
       " processor com.rpsmetocean.datafeeds.app.processing.processors.Expression parameters result='TideHeight',eval='meas+offset+meanTideHeight',offset='-49.38',meanTideHeight='3.325651547662',meas='EllipsoidHeight'\n",
       "     quality_variable: TideHeightQual\n",
       "     long_name: Surface Elevation\n",
       " unlimited dimensions: records\n",
       " current shape = (4257,)\n",
       " filling on,\n",
       " 'Distance': <class 'netCDF4.Variable'>\n",
       " float64 Distance(records)\n",
       "     missing_value: -1.9938419936773738e+37\n",
       "     _FillValue: -1.9938419936773738e+37\n",
       "     coordinates: Time Longitude Latitude\n",
       " unlimited dimensions: records\n",
       " current shape = (4257,)\n",
       " filling on,\n",
       " 'EllipsoidHeightQual': <class 'netCDF4.Variable'>\n",
       " int8 EllipsoidHeightQual(records)\n",
       "     coordinates: Time Longitude Latitude\n",
       "     long_name: Quality Flags\n",
       "     indexed: 1\n",
       "     indices: 0=unknown;1=good;2=suspect;3=bad\n",
       "     _FillValue: 0\n",
       " unlimited dimensions: records\n",
       " current shape = (4257,)\n",
       " filling on,\n",
       " 'SigmaHeightQual': <class 'netCDF4.Variable'>\n",
       " int8 SigmaHeightQual(records)\n",
       "     coordinates: Time Longitude Latitude\n",
       "     long_name: Quality Flags\n",
       "     indexed: 1\n",
       "     indices: 0=unknown;1=good;2=suspect;3=bad\n",
       "     _FillValue: 0\n",
       " unlimited dimensions: records\n",
       " current shape = (4257,)\n",
       " filling on,\n",
       " 'TideHeightQual': <class 'netCDF4.Variable'>\n",
       " int8 TideHeightQual(records)\n",
       "     long_name: Quality Flags\n",
       "     indexed: 1\n",
       "     indices: 0=unknown;1=good;2=suspect;3=bad\n",
       "     _FillValue: 0\n",
       " unlimited dimensions: records\n",
       " current shape = (4257,)\n",
       " filling on}"
      ]
     },
     "execution_count": 20,
     "metadata": {},
     "output_type": "execute_result"
    }
   ],
   "source": [
    "\n",
    "obs_fldr = \"raw_data/IJVA/\"\n",
    "# Collect observation directories in list\n",
    "obs_dir = [f\"{obs_fldr}IJVTideA.2022.05.QC_dataReturn.Rev0.nc\"]\n",
    "\n",
    "ds = nc.Dataset(obs_dir[0])\n",
    "ds.variables"
   ]
  },
  {
   "cell_type": "code",
   "execution_count": 22,
   "metadata": {},
   "outputs": [
    {
     "data": {
      "text/html": [
       "<div>\n",
       "<style scoped>\n",
       "    .dataframe tbody tr th:only-of-type {\n",
       "        vertical-align: middle;\n",
       "    }\n",
       "\n",
       "    .dataframe tbody tr th {\n",
       "        vertical-align: top;\n",
       "    }\n",
       "\n",
       "    .dataframe thead th {\n",
       "        text-align: right;\n",
       "    }\n",
       "</style>\n",
       "<table border=\"1\" class=\"dataframe\">\n",
       "  <thead>\n",
       "    <tr style=\"text-align: right;\">\n",
       "      <th></th>\n",
       "      <th>tide</th>\n",
       "    </tr>\n",
       "  </thead>\n",
       "  <tbody>\n",
       "    <tr>\n",
       "      <th>2022-05-01 00:00:00</th>\n",
       "      <td>-0.801037</td>\n",
       "    </tr>\n",
       "    <tr>\n",
       "      <th>2022-05-01 00:10:00</th>\n",
       "      <td>-0.851124</td>\n",
       "    </tr>\n",
       "    <tr>\n",
       "      <th>2022-05-01 00:20:00</th>\n",
       "      <td>NaN</td>\n",
       "    </tr>\n",
       "    <tr>\n",
       "      <th>2022-05-01 00:30:00</th>\n",
       "      <td>-0.706967</td>\n",
       "    </tr>\n",
       "    <tr>\n",
       "      <th>2022-05-01 00:40:00</th>\n",
       "      <td>-0.789162</td>\n",
       "    </tr>\n",
       "    <tr>\n",
       "      <th>...</th>\n",
       "      <td>...</td>\n",
       "    </tr>\n",
       "    <tr>\n",
       "      <th>2023-12-15 20:20:00</th>\n",
       "      <td>0.500285</td>\n",
       "    </tr>\n",
       "    <tr>\n",
       "      <th>2023-12-15 20:30:00</th>\n",
       "      <td>0.476667</td>\n",
       "    </tr>\n",
       "    <tr>\n",
       "      <th>2023-12-15 20:40:00</th>\n",
       "      <td>0.433284</td>\n",
       "    </tr>\n",
       "    <tr>\n",
       "      <th>2023-12-15 20:50:00</th>\n",
       "      <td>0.410645</td>\n",
       "    </tr>\n",
       "    <tr>\n",
       "      <th>2023-12-15 21:00:00</th>\n",
       "      <td>0.366361</td>\n",
       "    </tr>\n",
       "  </tbody>\n",
       "</table>\n",
       "<p>85519 rows × 1 columns</p>\n",
       "</div>"
      ],
      "text/plain": [
       "                         tide\n",
       "2022-05-01 00:00:00 -0.801037\n",
       "2022-05-01 00:10:00 -0.851124\n",
       "2022-05-01 00:20:00       NaN\n",
       "2022-05-01 00:30:00 -0.706967\n",
       "2022-05-01 00:40:00 -0.789162\n",
       "...                       ...\n",
       "2023-12-15 20:20:00  0.500285\n",
       "2023-12-15 20:30:00  0.476667\n",
       "2023-12-15 20:40:00  0.433284\n",
       "2023-12-15 20:50:00  0.410645\n",
       "2023-12-15 21:00:00  0.366361\n",
       "\n",
       "[85519 rows x 1 columns]"
      ]
     },
     "execution_count": 22,
     "metadata": {},
     "output_type": "execute_result"
    }
   ],
   "source": [
    "obs_fldr = \"raw_data/IJVA/\"\n",
    "# Collect observation directories in list\n",
    "obs_dir = [f\"{obs_fldr}IJVTideA.2022.05.QC_dataReturn.Rev0.nc\",\n",
    "           f\"{obs_fldr}IJVTideA.2022.06.QC_dataReturn.Rev0.nc\",\n",
    "           f\"{obs_fldr}IJVTideA.2022.07.QC_dataReturn.Rev0.nc\",\n",
    "           f\"{obs_fldr}IJVTideA.2022.08.QC_dataReturn.Rev0.nc\",\n",
    "           f\"{obs_fldr}IJVTideA.2022.09.QC_dataReturn.Rev0.nc\",\n",
    "           f\"{obs_fldr}IJVTideA.2022.10.QC_dataReturn.Rev0.nc\",\n",
    "           f\"{obs_fldr}IJVTideA.2022.11.QC_dataReturn.Rev0.nc\",\n",
    "           f\"{obs_fldr}IJVTideA.2022.12.QC_dataReturn.Rev0.part1.nc\",\n",
    "           f\"{obs_fldr}IJVTideA.2022.12.QC_dataReturn.Rev0.part2.nc\",\n",
    "           f\"{obs_fldr}IJVTideA.2023.01.QC_dataReturn.Rev0.nc\",\n",
    "           f\"{obs_fldr}J3707_09_IJV-A2_D02.Tide.2023.02.QC_dataReturn.Rev1.nc\",\n",
    "           f\"{obs_fldr}J3707_09_IJV-A2_D02.Tide.2023.03.QC_dataReturn.Rev0.nc\",\n",
    "           f\"{obs_fldr}J3707_09_IJV-A2-D02.Tide.2023.04.QC_dataReturn.Rev1.nc\",\n",
    "           f\"{obs_fldr}J3707_15_IJV-A1_D03.Tide.2023.05.QC_dataReturn.Rev0.nc\",\n",
    "           f\"{obs_fldr}J3707_15_IJV-A1_D03.Tide.2023.06.QC_dataReturn.Rev0.nc\",\n",
    "           f\"{obs_fldr}J3707_15_IJV-A1_D03.Tide.2023.07.QC_dataReturn.Rev0.nc\",\n",
    "           f\"{obs_fldr}J3707_15_IJV-A1_D03.Tide.2023.08.QC_dataReturn.Rev0.nc\",\n",
    "           f\"{obs_fldr}J3707_15_IJV-A1_D03.Tide.2023.09.QC_dataReturn.Rev0.nc\",\n",
    "           f\"{obs_fldr}J3707_15_IJV-A1_D03.Tide.2023.10.QC_dataReturn.Rev0.nc\",\n",
    "           f\"{obs_fldr}J3707_16_IJV-A2_D04.Tide.2023.11.QC_dataReturn.Rev0.nc\",\n",
    "           f\"{obs_fldr}J3707_16_IJV-A2_D04.Tide.2023.12.QC_dataReturn.Rev0.nc\"]\n",
    "\n",
    "all_tide_list = []\n",
    "longitudes_IJVA = []\n",
    "latitudes_IJVA = []\n",
    "for o in obs_dir:\n",
    "    ds = nc.Dataset(o)\n",
    "    formatted_time = []\n",
    "    for epoch_time in ds[\"Time\"][:].data:\n",
    "        formatted_time.append(time.strftime('%Y-%m-%d %H:%M:%S', time.gmtime(epoch_time)))\n",
    "\n",
    "    data = ds[\"TideHeight\"][:].data.tolist()\n",
    "    if len(ds[\"Longitude\"][:].data.shape) >0:\n",
    "        lon = ds[\"RefLongitude\"][:].data.item()\n",
    "        lat = ds[\"RefLatitude\"][:].data.item()\n",
    "    else:\n",
    "        lon = ds[\"Longitude\"][:].data.item()\n",
    "        lat = ds[\"Latitude\"][:].data.item()\n",
    "    longitudes_IJVA.append(lon)\n",
    "    latitudes_IJVA.append(lat) \n",
    "\n",
    "    tide = pd.DataFrame({\"tide\": data},index=pd.DatetimeIndex(formatted_time))\n",
    "    if \"TideHeightQual\" in ds.variables:\n",
    "        quality_filter = ds.variables[\"TideHeightQual\"][:].data<2\n",
    "        tide = tide[quality_filter]\n",
    "    tide = tide.drop(tide[tide['tide'] < -100].index)# Remove invalid values\n",
    "    tide[\"tide\"] = tide[\"tide\"]-np.mean(tide[\"tide\"])# Center around zero\n",
    "    \n",
    "    \n",
    "    all_tide_list.append(tide)\n",
    "\n",
    "    \n",
    "\n",
    "all_tide=pd.concat(all_tide_list)\n",
    "# Replace missing entries with nan such that we have a full date time index\n",
    "all_tide = all_tide.set_index(all_tide.index).resample('10min').sum().replace(0.00, np.nan) \n",
    "all_tide"
   ]
  },
  {
   "cell_type": "code",
   "execution_count": 23,
   "metadata": {},
   "outputs": [
    {
     "data": {
      "text/plain": [
       "[52.88486,\n",
       " 52.88486,\n",
       " 52.88486,\n",
       " 52.88486,\n",
       " 52.88486,\n",
       " 52.88486,\n",
       " 52.88486,\n",
       " 52.88486,\n",
       " 52.88486,\n",
       " 52.88486,\n",
       " 52.88486,\n",
       " 52.88486,\n",
       " 52.87621667,\n",
       " 52.88558333,\n",
       " 52.88558333,\n",
       " 52.88558333,\n",
       " 52.88558333,\n",
       " 52.88558333,\n",
       " 52.88558333,\n",
       " 52.87603,\n",
       " 52.87603]"
      ]
     },
     "execution_count": 23,
     "metadata": {},
     "output_type": "execute_result"
    }
   ],
   "source": [
    "latitudes_IJVA"
   ]
  },
  {
   "cell_type": "code",
   "execution_count": 24,
   "metadata": {},
   "outputs": [
    {
     "data": {
      "text/plain": [
       "[3.71038,\n",
       " 3.71038,\n",
       " 3.71038,\n",
       " 3.71038,\n",
       " 3.71038,\n",
       " 3.71038,\n",
       " 3.71038,\n",
       " 3.71038,\n",
       " 3.71038,\n",
       " 3.71038,\n",
       " 3.71038,\n",
       " 3.71038,\n",
       " 3.70968333,\n",
       " 3.71098333,\n",
       " 3.71098333,\n",
       " 3.71098333,\n",
       " 3.71098333,\n",
       " 3.71098333,\n",
       " 3.71098333,\n",
       " 3.70953,\n",
       " 3.70953]"
      ]
     },
     "execution_count": 24,
     "metadata": {},
     "output_type": "execute_result"
    }
   ],
   "source": [
    "longitudes_IJVA"
   ]
  },
  {
   "cell_type": "code",
   "execution_count": 25,
   "metadata": {},
   "outputs": [],
   "source": [
    "# Rolling mean value\n",
    "all_tide_rollmean = all_tide.rolling(window='30min',closed=\"left\").mean()[::3]\n",
    "all_tide_rollmean = all_tide_rollmean.dropna()"
   ]
  },
  {
   "cell_type": "code",
   "execution_count": 26,
   "metadata": {},
   "outputs": [
    {
     "data": {
      "text/html": [
       "<div>\n",
       "<style scoped>\n",
       "    .dataframe tbody tr th:only-of-type {\n",
       "        vertical-align: middle;\n",
       "    }\n",
       "\n",
       "    .dataframe tbody tr th {\n",
       "        vertical-align: top;\n",
       "    }\n",
       "\n",
       "    .dataframe thead th {\n",
       "        text-align: right;\n",
       "    }\n",
       "</style>\n",
       "<table border=\"1\" class=\"dataframe\">\n",
       "  <thead>\n",
       "    <tr style=\"text-align: right;\">\n",
       "      <th></th>\n",
       "      <th>water_level</th>\n",
       "    </tr>\n",
       "    <tr>\n",
       "      <th>datetime_UTC</th>\n",
       "      <th></th>\n",
       "    </tr>\n",
       "  </thead>\n",
       "  <tbody>\n",
       "    <tr>\n",
       "      <th>2022-05-01 00:30:00</th>\n",
       "      <td>-0.826081</td>\n",
       "    </tr>\n",
       "    <tr>\n",
       "      <th>2022-05-01 01:00:00</th>\n",
       "      <td>-0.762079</td>\n",
       "    </tr>\n",
       "    <tr>\n",
       "      <th>2022-05-01 01:30:00</th>\n",
       "      <td>-0.746073</td>\n",
       "    </tr>\n",
       "    <tr>\n",
       "      <th>2022-05-01 02:00:00</th>\n",
       "      <td>-0.482208</td>\n",
       "    </tr>\n",
       "    <tr>\n",
       "      <th>2022-05-01 02:30:00</th>\n",
       "      <td>-0.293721</td>\n",
       "    </tr>\n",
       "    <tr>\n",
       "      <th>...</th>\n",
       "      <td>...</td>\n",
       "    </tr>\n",
       "    <tr>\n",
       "      <th>2023-12-15 19:00:00</th>\n",
       "      <td>0.339818</td>\n",
       "    </tr>\n",
       "    <tr>\n",
       "      <th>2023-12-15 19:30:00</th>\n",
       "      <td>0.423349</td>\n",
       "    </tr>\n",
       "    <tr>\n",
       "      <th>2023-12-15 20:00:00</th>\n",
       "      <td>0.466874</td>\n",
       "    </tr>\n",
       "    <tr>\n",
       "      <th>2023-12-15 20:30:00</th>\n",
       "      <td>0.490724</td>\n",
       "    </tr>\n",
       "    <tr>\n",
       "      <th>2023-12-15 21:00:00</th>\n",
       "      <td>0.440199</td>\n",
       "    </tr>\n",
       "  </tbody>\n",
       "</table>\n",
       "<p>26551 rows × 1 columns</p>\n",
       "</div>"
      ],
      "text/plain": [
       "                     water_level\n",
       "datetime_UTC                    \n",
       "2022-05-01 00:30:00    -0.826081\n",
       "2022-05-01 01:00:00    -0.762079\n",
       "2022-05-01 01:30:00    -0.746073\n",
       "2022-05-01 02:00:00    -0.482208\n",
       "2022-05-01 02:30:00    -0.293721\n",
       "...                          ...\n",
       "2023-12-15 19:00:00     0.339818\n",
       "2023-12-15 19:30:00     0.423349\n",
       "2023-12-15 20:00:00     0.466874\n",
       "2023-12-15 20:30:00     0.490724\n",
       "2023-12-15 21:00:00     0.440199\n",
       "\n",
       "[26551 rows x 1 columns]"
      ]
     },
     "execution_count": 26,
     "metadata": {},
     "output_type": "execute_result"
    }
   ],
   "source": [
    "all_tide_rollmean.index.name = \"datetime_UTC\"\n",
    "all_tide_rollmean.columns = [\"water_level\"]\n",
    "all_tide_rollmean"
   ]
  },
  {
   "cell_type": "code",
   "execution_count": null,
   "metadata": {},
   "outputs": [],
   "source": [
    "all_tide_rollmean.to_csv(\"../observations/IJVA_wl.csv\")"
   ]
  },
  {
   "cell_type": "code",
   "execution_count": 29,
   "metadata": {},
   "outputs": [],
   "source": [
    "locations_IJVA = pd.DataFrame({\"station\": [\"IJVA\"],\n",
    "                              \"longitude\": [np.round(np.mean(longitudes_IJVA),decimals=6)],\n",
    "                              \"latitude\": [np.round(np.mean(latitudes_IJVA),decimals=6)]})\n",
    "locations_all = pd.concat([locations_NWA,locations_IJVA])"
   ]
  },
  {
   "cell_type": "code",
   "execution_count": 30,
   "metadata": {},
   "outputs": [],
   "source": [
    "locations_all.to_csv(\"../observations/stations.csv\")"
   ]
  },
  {
   "cell_type": "markdown",
   "metadata": {},
   "source": [
    "# DDW1A"
   ]
  },
  {
   "cell_type": "code",
   "execution_count": 31,
   "metadata": {},
   "outputs": [
    {
     "data": {
      "text/plain": [
       "<class 'netCDF4.Dataset'>\n",
       "root group (NETCDF4_CLASSIC data model, file format HDF5):\n",
       "    instrument: Tritech\n",
       "    platform: In Situ Ocean-based Platforms > MOORINGS\n",
       "    title: Oceanographic and meteorological data collected from an Accurasea Floating LiDAR System by GeoXYZ for RVO, project VSA MC Lot1&Lot2\n",
       "    creator_type: person\n",
       "    creator_institution: Aqua Vision BV\n",
       "    publisher_type: person\n",
       "    publisher_institution: RVO\n",
       "    program: Accurasea Data Processing Chain (ADPC)\n",
       "    date_created: 2023-09-15 09:53:35+0:00\n",
       "    summary: Oceanographic and meteorological data collected from an Accurasea Floating LiDAR System by GeoXYZ for RVO, project VSA MC Lot1&Lot2\n",
       "    source: Accurasea Data Processing Chain (ADPC)\n",
       "    cdm_data_type: Station\n",
       "    sea_name: North Sea\n",
       "    id: DDW1A2_GEOxyz_D01_Hydro_WL_2023-06_dataReturn_Rev2_20230915.nc\n",
       "    time_coverage_start: 2023-06-01 00:00:00+0:00\n",
       "    time_coverage_end: 2023-06-30 23:50:00+0:00\n",
       "    time_coverage_duration: 1month\n",
       "    time_coverage_resolution: 10minutes\n",
       "    geospatial_lat_min: 54.197144\n",
       "    geospatial_lat_max: 54.19799\n",
       "    geospatial_lat_units: degrees_north\n",
       "    geospatial_lon_min: 5.366872\n",
       "    geospatial_lon_max: 5.368743\n",
       "    geospatial_lon_units: degrees_east\n",
       "    geospatial_vertical_units: m\n",
       "    geospatial_vertical_positive: up\n",
       "    institution: Aqua Vision BV\n",
       "    creator_name: Jeroen Aardoom\n",
       "    creator_url: http://www.aquavision.nl/\n",
       "    creator_email: info@aquavision.nl\n",
       "    project: RVO_VSA_MC_DDW1\n",
       "    processing_level: draft\n",
       "    keywords: Oceans, Tide\n",
       "    comment: -\n",
       "    contributor_name: GeoXYZ, Accurasea, Aqua Vision\n",
       "    contributor_role: Contractor, FLS supplier, data processing\n",
       "    publisher_name: RVO\n",
       "    publisher_url: https://offshorewind.rvo.nl/\n",
       "    license: Freely available under Creative Commons License CC BY 4.0\n",
       "    description: Generated with version ADPC v1.00\n",
       "    provider: RVO\n",
       "    deployment_id: DDW1A2_GEOxyz_D01\n",
       "    version: v0.02\n",
       "    buoyname: DDWA2_D01_ACCU5_TAB04812\n",
       "    sensor_serial_number: 04519.322036\n",
       "    mooring_position_utmx: 654462.0\n",
       "    mooring_position_utmy: 6008106.0\n",
       "    utm_zone: 31U\n",
       "    mooring_position_lat: 5.36786029917838\n",
       "    mooring_position_lon: 54.19768700507494\n",
       "    mooring_depth: 40.8\n",
       "    dimensions(sizes): time(4247)\n",
       "    variables(dimensions): int32 time(time), float32 lat(time), float32 lon(time), float32 WaterLevel(time), int8 WaterLevel_qc(time)\n",
       "    groups: "
      ]
     },
     "execution_count": 31,
     "metadata": {},
     "output_type": "execute_result"
    }
   ],
   "source": [
    "# The modelskill package can be used to compare model results with observations.\n",
    "# For more info on modelskill, see https://github.com/DHI/modelskill\n",
    "obs_fldr = \"raw_data/DDW1A/\"\n",
    "# Collect observation directories in list\n",
    "obs_dir = [f\"{obs_fldr}DDW1A2_GEOxyz_D01_Hydro_WL_2023-06_dataReturn_Rev2_20230915.nc\"]\n",
    "\n",
    "ds = nc.Dataset(obs_dir[0])\n",
    "ds"
   ]
  },
  {
   "cell_type": "code",
   "execution_count": 32,
   "metadata": {},
   "outputs": [
    {
     "data": {
      "text/plain": [
       "{'time': <class 'netCDF4.Variable'>\n",
       " int32 time(time)\n",
       "     long_name: time\n",
       "     standard_name: time\n",
       "     units: seconds since 1970-01-01 00:00:00+0:00\n",
       "     calendar: julian\n",
       "     _FillValue: 2147483647\n",
       " unlimited dimensions: \n",
       " current shape = (4247,)\n",
       " filling on,\n",
       " 'lat': <class 'netCDF4.Variable'>\n",
       " float32 lat(time)\n",
       "     _FillValue: -9999.0\n",
       "     long_name: Latitude\n",
       "     standard_name: latitude\n",
       "     units: degrees_north\n",
       "     data_min: 54.197144\n",
       "     data_max: 54.19799\n",
       " unlimited dimensions: \n",
       " current shape = (4247,)\n",
       " filling on,\n",
       " 'lon': <class 'netCDF4.Variable'>\n",
       " float32 lon(time)\n",
       "     _FillValue: -9999.0\n",
       "     long_name: Longitude\n",
       "     standard_name: longitude\n",
       "     units: degrees_east\n",
       "     data_min: 5.366872\n",
       "     data_max: 5.368743\n",
       " unlimited dimensions: \n",
       " current shape = (4247,)\n",
       " filling on,\n",
       " 'WaterLevel': <class 'netCDF4.Variable'>\n",
       " float32 WaterLevel(time)\n",
       "     long_name: waterlevel_above_msl\n",
       "     standard_name: waterlevel\n",
       "     units: m\n",
       "     _FillValue: 3.4028235e+38\n",
       "     data_min: -16.148\n",
       "     data_max: 0.981\n",
       " unlimited dimensions: \n",
       " current shape = (4247,)\n",
       " filling on,\n",
       " 'WaterLevel_qc': <class 'netCDF4.Variable'>\n",
       " int8 WaterLevel_qc(time)\n",
       "     standard_name: status_flag\n",
       "     long_name: waterlevel_above_msl_Quality\n",
       "     _FillValue: -128\n",
       "     valid_range: [1 5]\n",
       "     flag_values: [1 2 3 4 5]\n",
       "     flag_meanings: 1=valid 2=manual_suspect 3=suspect 4=invalid 5=missing\n",
       " unlimited dimensions: \n",
       " current shape = (4247,)\n",
       " filling on}"
      ]
     },
     "execution_count": 32,
     "metadata": {},
     "output_type": "execute_result"
    }
   ],
   "source": [
    "ds.variables"
   ]
  },
  {
   "cell_type": "code",
   "execution_count": 33,
   "metadata": {},
   "outputs": [
    {
     "data": {
      "text/html": [
       "<div>\n",
       "<style scoped>\n",
       "    .dataframe tbody tr th:only-of-type {\n",
       "        vertical-align: middle;\n",
       "    }\n",
       "\n",
       "    .dataframe tbody tr th {\n",
       "        vertical-align: top;\n",
       "    }\n",
       "\n",
       "    .dataframe thead th {\n",
       "        text-align: right;\n",
       "    }\n",
       "</style>\n",
       "<table border=\"1\" class=\"dataframe\">\n",
       "  <thead>\n",
       "    <tr style=\"text-align: right;\">\n",
       "      <th></th>\n",
       "      <th>wl</th>\n",
       "    </tr>\n",
       "  </thead>\n",
       "  <tbody>\n",
       "    <tr>\n",
       "      <th>2023-06-01 00:00:00</th>\n",
       "      <td>-0.807840</td>\n",
       "    </tr>\n",
       "    <tr>\n",
       "      <th>2023-06-01 00:10:00</th>\n",
       "      <td>-0.816840</td>\n",
       "    </tr>\n",
       "    <tr>\n",
       "      <th>2023-06-01 00:20:00</th>\n",
       "      <td>-0.806840</td>\n",
       "    </tr>\n",
       "    <tr>\n",
       "      <th>2023-06-01 00:30:00</th>\n",
       "      <td>-0.785840</td>\n",
       "    </tr>\n",
       "    <tr>\n",
       "      <th>2023-06-01 00:40:00</th>\n",
       "      <td>-0.765840</td>\n",
       "    </tr>\n",
       "    <tr>\n",
       "      <th>...</th>\n",
       "      <td>...</td>\n",
       "    </tr>\n",
       "    <tr>\n",
       "      <th>2023-12-31 23:10:00</th>\n",
       "      <td>0.370619</td>\n",
       "    </tr>\n",
       "    <tr>\n",
       "      <th>2023-12-31 23:20:00</th>\n",
       "      <td>0.400619</td>\n",
       "    </tr>\n",
       "    <tr>\n",
       "      <th>2023-12-31 23:30:00</th>\n",
       "      <td>0.370619</td>\n",
       "    </tr>\n",
       "    <tr>\n",
       "      <th>2023-12-31 23:40:00</th>\n",
       "      <td>0.340619</td>\n",
       "    </tr>\n",
       "    <tr>\n",
       "      <th>2023-12-31 23:50:00</th>\n",
       "      <td>0.350619</td>\n",
       "    </tr>\n",
       "  </tbody>\n",
       "</table>\n",
       "<p>30816 rows × 1 columns</p>\n",
       "</div>"
      ],
      "text/plain": [
       "                           wl\n",
       "2023-06-01 00:00:00 -0.807840\n",
       "2023-06-01 00:10:00 -0.816840\n",
       "2023-06-01 00:20:00 -0.806840\n",
       "2023-06-01 00:30:00 -0.785840\n",
       "2023-06-01 00:40:00 -0.765840\n",
       "...                       ...\n",
       "2023-12-31 23:10:00  0.370619\n",
       "2023-12-31 23:20:00  0.400619\n",
       "2023-12-31 23:30:00  0.370619\n",
       "2023-12-31 23:40:00  0.340619\n",
       "2023-12-31 23:50:00  0.350619\n",
       "\n",
       "[30816 rows x 1 columns]"
      ]
     },
     "execution_count": 33,
     "metadata": {},
     "output_type": "execute_result"
    }
   ],
   "source": [
    "# Collect observation directories in list\n",
    "obs_dir = [f\"{obs_fldr}DDW1A2_GEOxyz_D01_Hydro_WL_2023-06_dataReturn_Rev2_20230915.nc\",\n",
    "           f\"{obs_fldr}DDW1A2_GEOxyz_D01_Hydro_WL_2023-07_dataReturn_Rev2_20230927.nc\",\n",
    "           f\"{obs_fldr}DDW1A2_GEOxyz_D01_Hydro_WL_2023-08_dataReturn_Rev2_20231020.nc\",\n",
    "           f\"{obs_fldr}DDW1A2_GEOxyz_D02_Hydro_WL_2023-08_dataReturn_Rev2_20231020.nc\",\n",
    "           f\"{obs_fldr}DDW1A2_GEOxyz_D02_Hydro_WL_2023-09_dataReturn_Rev2_20231027.nc\",\n",
    "           f\"{obs_fldr}DDW1A2_GEOxyz_D02_Hydro_WL_2023-10_dataReturn_Rev2_20231127.nc\",\n",
    "           f\"{obs_fldr}DDW1A2_GEOxyz_D02_Hydro_WL_2023-11_dataReturn_Rev3_20240319.nc\",\n",
    "           f\"{obs_fldr}DDW1A2_GEOxyz_D03_Hydro_WL_2023-11_dataReturn_Rev3_20240319.nc\",\n",
    "           f\"{obs_fldr}DDW1A2_GEOxyz_D03_Hydro_WL_2023-12_dataReturn_Rev2_20240205.nc\"]\n",
    "\n",
    "all_wl_list = []\n",
    "longitudes_DDW1A = []\n",
    "latitudes_DDW1A = []\n",
    "for o in obs_dir:\n",
    "    ds = nc.Dataset(o)\n",
    "    formatted_time = []\n",
    "    for epoch_time in ds[\"time\"][:].data:\n",
    "        formatted_time.append(time.strftime('%Y-%m-%d %H:%M:%S', time.gmtime(epoch_time)))\n",
    "\n",
    "    data = ds[\"WaterLevel\"][:].data.tolist()\n",
    "    lon = np.nanmean(ds[\"lon\"][:].data)\n",
    "    lat = np.nanmean(ds[\"lat\"][:].data)\n",
    "    longitudes_DDW1A.append(lon)\n",
    "    latitudes_DDW1A.append(lat) \n",
    "\n",
    "    wl = pd.DataFrame({\"wl\": data}, index = pd.DatetimeIndex(formatted_time))\n",
    "    if \"WaterLevel\" in ds.variables:\n",
    "        quality_filter = ds.variables[\"WaterLevel_qc\"][:].data<2\n",
    "        wl = wl[quality_filter]\n",
    "    wl = wl.drop(wl[wl['wl'] < -100].index)# Remove invalid values\n",
    "    wl[\"wl\"] = wl[\"wl\"]-np.mean(wl[\"wl\"])# Center around zero\n",
    "    \n",
    "    \n",
    "    all_wl_list.append(wl)\n",
    "\n",
    "all_wl=pd.concat(all_wl_list)\n",
    "# Replace missing entries with nan such that we have a full date time index\n",
    "all_wl = all_wl.set_index(all_wl.index).resample('10min').sum().replace(0.00, np.nan) \n",
    "all_wl"
   ]
  },
  {
   "cell_type": "code",
   "execution_count": 34,
   "metadata": {},
   "outputs": [
    {
     "data": {
      "text/plain": [
       "[5.3678,\n",
       " 5.368164,\n",
       " 5.3680196,\n",
       " 5.3680987,\n",
       " 5.3680024,\n",
       " 5.368092,\n",
       " 5.3684177,\n",
       " 5.368141,\n",
       " 5.3681545]"
      ]
     },
     "execution_count": 34,
     "metadata": {},
     "output_type": "execute_result"
    }
   ],
   "source": [
    "longitudes_DDW1A"
   ]
  },
  {
   "cell_type": "code",
   "execution_count": 35,
   "metadata": {},
   "outputs": [],
   "source": [
    "# Rolling mean value\n",
    "all_wl_rollmean = all_wl.rolling(window='30min',closed=\"left\").mean()[::3]\n",
    "all_wl_rollmean = all_wl_rollmean.dropna()"
   ]
  },
  {
   "cell_type": "code",
   "execution_count": 37,
   "metadata": {},
   "outputs": [
    {
     "data": {
      "text/html": [
       "<div>\n",
       "<style scoped>\n",
       "    .dataframe tbody tr th:only-of-type {\n",
       "        vertical-align: middle;\n",
       "    }\n",
       "\n",
       "    .dataframe tbody tr th {\n",
       "        vertical-align: top;\n",
       "    }\n",
       "\n",
       "    .dataframe thead th {\n",
       "        text-align: right;\n",
       "    }\n",
       "</style>\n",
       "<table border=\"1\" class=\"dataframe\">\n",
       "  <thead>\n",
       "    <tr style=\"text-align: right;\">\n",
       "      <th></th>\n",
       "      <th>water_level</th>\n",
       "    </tr>\n",
       "    <tr>\n",
       "      <th>datetime_UTC</th>\n",
       "      <th></th>\n",
       "    </tr>\n",
       "  </thead>\n",
       "  <tbody>\n",
       "    <tr>\n",
       "      <th>2023-06-01 00:30:00</th>\n",
       "      <td>-0.810506</td>\n",
       "    </tr>\n",
       "    <tr>\n",
       "      <th>2023-06-01 01:00:00</th>\n",
       "      <td>-0.769173</td>\n",
       "    </tr>\n",
       "    <tr>\n",
       "      <th>2023-06-01 01:30:00</th>\n",
       "      <td>-0.674340</td>\n",
       "    </tr>\n",
       "    <tr>\n",
       "      <th>2023-06-01 02:00:00</th>\n",
       "      <td>-0.528506</td>\n",
       "    </tr>\n",
       "    <tr>\n",
       "      <th>2023-06-01 02:30:00</th>\n",
       "      <td>-0.322840</td>\n",
       "    </tr>\n",
       "    <tr>\n",
       "      <th>...</th>\n",
       "      <td>...</td>\n",
       "    </tr>\n",
       "    <tr>\n",
       "      <th>2023-12-31 21:30:00</th>\n",
       "      <td>0.287286</td>\n",
       "    </tr>\n",
       "    <tr>\n",
       "      <th>2023-12-31 22:00:00</th>\n",
       "      <td>0.337286</td>\n",
       "    </tr>\n",
       "    <tr>\n",
       "      <th>2023-12-31 22:30:00</th>\n",
       "      <td>0.390619</td>\n",
       "    </tr>\n",
       "    <tr>\n",
       "      <th>2023-12-31 23:00:00</th>\n",
       "      <td>0.343952</td>\n",
       "    </tr>\n",
       "    <tr>\n",
       "      <th>2023-12-31 23:30:00</th>\n",
       "      <td>0.373952</td>\n",
       "    </tr>\n",
       "  </tbody>\n",
       "</table>\n",
       "<p>9825 rows × 1 columns</p>\n",
       "</div>"
      ],
      "text/plain": [
       "                     water_level\n",
       "datetime_UTC                    \n",
       "2023-06-01 00:30:00    -0.810506\n",
       "2023-06-01 01:00:00    -0.769173\n",
       "2023-06-01 01:30:00    -0.674340\n",
       "2023-06-01 02:00:00    -0.528506\n",
       "2023-06-01 02:30:00    -0.322840\n",
       "...                          ...\n",
       "2023-12-31 21:30:00     0.287286\n",
       "2023-12-31 22:00:00     0.337286\n",
       "2023-12-31 22:30:00     0.390619\n",
       "2023-12-31 23:00:00     0.343952\n",
       "2023-12-31 23:30:00     0.373952\n",
       "\n",
       "[9825 rows x 1 columns]"
      ]
     },
     "execution_count": 37,
     "metadata": {},
     "output_type": "execute_result"
    }
   ],
   "source": [
    "all_wl_rollmean.index.name = \"datetime_UTC\"\n",
    "all_wl_rollmean.columns = [\"water_level\"]\n",
    "all_wl_rollmean"
   ]
  },
  {
   "cell_type": "code",
   "execution_count": 38,
   "metadata": {},
   "outputs": [],
   "source": [
    "all_wl_rollmean.to_csv(f\"../observations/DDW1A_wl.csv\")"
   ]
  },
  {
   "cell_type": "code",
   "execution_count": 39,
   "metadata": {},
   "outputs": [],
   "source": [
    "locations_DDW1A = pd.DataFrame({\"station\": [\"DDW1A\"],\n",
    "                              \"longitude\": [np.round(np.mean(longitudes_DDW1A),decimals=6)],\n",
    "                              \"latitude\": [np.round(np.mean(latitudes_DDW1A),decimals=6)]})\n",
    "locations_all = pd.concat([locations_NWA,locations_IJVA,locations_DDW1A])"
   ]
  },
  {
   "cell_type": "code",
   "execution_count": 41,
   "metadata": {},
   "outputs": [],
   "source": [
    "locations_all.to_csv(\"../observations/stations.csv\")"
   ]
  },
  {
   "cell_type": "markdown",
   "metadata": {},
   "source": [
    "# F3 platform"
   ]
  },
  {
   "cell_type": "code",
   "execution_count": 42,
   "metadata": {},
   "outputs": [
    {
     "data": {
      "text/plain": [
       "<class 'netCDF4.Dataset'>\n",
       "root group (NETCDF4 data model, file format HDF5):\n",
       "    data_mode: R\n",
       "    id: NO_TS_TG_F3platformTG_202201\n",
       "    institution: Rijkswaterstaat Water- Traffic and Environment\n",
       "    institution_country: Netherlands\n",
       "    institution_edmo_code: 1526\n",
       "    naming_authority: Copernicus Marine In Situ\n",
       "    platform_code: F3platformTG\n",
       "    source: land/onshore structure\n",
       "    source_platform_category_code: 14\n",
       "    title: NWS - NRT in situ Observations\n",
       "    last_latitude_observation: 54.85000\n",
       "    last_longitude_observation: 4.72000\n",
       "    geospatial_lat_min: 54.85\n",
       "    geospatial_lat_max: 54.85\n",
       "    geospatial_lon_min: 4.72\n",
       "    geospatial_lon_max: 4.72\n",
       "    last_date_observation: 2022-01-31T23:50:00Z\n",
       "    institution_references: https://www.rijkswaterstaat.nl/english/index.aspx\n",
       "    platform_name: \n",
       "    summary: Oceanographic data collated by the North West Shelf Production Unit\n",
       "    cdm_data_type: timeSeries\n",
       "    geospatial_vertical_min: 0\n",
       "    geospatial_vertical_max: 0\n",
       "    time_coverage_start: 2022-01-01T00:00:00Z\n",
       "    time_coverage_end: 2022-01-31T23:50:00Z\n",
       "    featureType: timeSeries\n",
       "    area: North Atlantic Ocean\n",
       "    bottom_depth: \n",
       "    Conventions: CF-1.11 Copernicus-InSituTAC-FormatManual-2.0.0 Copernicus-InSituTAC-ParametersList-3.3.0 Copernicus-InSituTAC-AttributesList-1.0.0\n",
       "    format_version: 2.0\n",
       "    netcdf_version: netCDF-4 classic model\n",
       "    citation: These data were collated within the Copernicus Marine Service (In Situ) and EMODnet collaboration framework. Data is made freely available by the Copernicus Marine Service and the programs that contribute to it.\n",
       "    license: https://marine.copernicus.eu/user-corner/service-commitments-and-licence\n",
       "    publisher_email: cmems-service@bsh.de\n",
       "    publisher_institution: BSH\n",
       "    publisher_name: Copernicus Marine Service\n",
       "    publisher_url: https://marine.copernicus.eu/ http://www.marineinsitu.eu/\n",
       "    references: http://marine.copernicus.eu http://www.marineinsitu.eu\n",
       "    update_interval: P1M\n",
       "    date_modified: 2023-11-07T08:29:48Z\n",
       "    date_created: 2023-11-07T08:29:48Z\n",
       "    history: 2023-11-03T12:35:39Z : Creation\n",
       "2023-11-07T08:29:48Z, BSH North West Shelf PU: Monthly subset 202201 extracted from history file NO_TS_TG_F3platformTG.nc\n",
       "    dimensions(sizes): TIME(4446), DEPTH(1), STRLEN(64)\n",
       "    variables(dimensions): float64 TIME(TIME), int8 TIME_QC(TIME), float32 LATITUDE(), float32 LONGITUDE(), float32 DEPH(DEPTH), |S1 STATION(STRLEN), float32 SLEV(TIME, DEPTH), int8 SLEV_QC(TIME, DEPTH)\n",
       "    groups: "
      ]
     },
     "execution_count": 42,
     "metadata": {},
     "output_type": "execute_result"
    }
   ],
   "source": [
    "# The modelskill package can be used to compare model results with observations.\n",
    "# For more info on modelskill, see https://github.com/DHI/modelskill\n",
    "obs_fldr = \"raw_data/F3platform/\"\n",
    "# Collect observation directories in list\n",
    "obs_dir = [f\"{obs_fldr}NO_TS_TG_F3platformTG_202201.nc\"]\n",
    "\n",
    "ds = nc.Dataset(obs_dir[0])\n",
    "ds"
   ]
  },
  {
   "cell_type": "code",
   "execution_count": 43,
   "metadata": {},
   "outputs": [
    {
     "data": {
      "text/plain": [
       "<class 'netCDF4.Variable'>\n",
       "float64 TIME(TIME)\n",
       "    long_name: Time\n",
       "    standard_name: time\n",
       "    units: days since 1950-01-01T00:00:00Z\n",
       "    valid_min: -90000.0\n",
       "    valid_max: 90000.0\n",
       "    axis: T\n",
       "    ancillary_variables: TIME_QC\n",
       "    calendar: standard\n",
       "unlimited dimensions: \n",
       "current shape = (4446,)\n",
       "filling on, default _FillValue of 9.969209968386869e+36 used"
      ]
     },
     "execution_count": 43,
     "metadata": {},
     "output_type": "execute_result"
    }
   ],
   "source": [
    "ds[\"SLEV_QC\"]\n",
    "ds[\"TIME\"]"
   ]
  },
  {
   "cell_type": "code",
   "execution_count": 44,
   "metadata": {},
   "outputs": [],
   "source": [
    "import datetime"
   ]
  },
  {
   "cell_type": "code",
   "execution_count": 45,
   "metadata": {},
   "outputs": [],
   "source": [
    "formatted_time = []\n",
    "start = datetime.date(1950,1,1)\n",
    "for days in ds[\"TIME\"][:].data:\n",
    "    formatted_time.append(start + datetime.timedelta(days = days))\n",
    "\n",
    "data = ds[\"SLEV\"][:].data.squeeze().tolist()\n",
    "lon = np.nanmean(ds[\"LONGITUDE\"][:].data)\n",
    "lat = np.nanmean(ds[\"LATITUDE\"][:].data)\n",
    "\n",
    "wl = pd.DataFrame({\"slev\": data}, index = pd.DatetimeIndex(formatted_time))\n",
    "quality_filter = ds[\"SLEV_QC\"][:].data<=2\n",
    "wl = wl[quality_filter]\n",
    "wl = wl.drop(wl[wl['slev'] < -100].index)# Remove invalid values\n",
    "wl[\"slev\"] = wl[\"slev\"]-np.mean(wl[\"slev\"])# Center around zero\n",
    "\n",
    "\n",
    "# all_wl=pd.concat(all_wl_list)\n",
    "# # Replace missing entries with nan such that we have a full date time index\n",
    "# all_wl = all_wl.set_index(all_wl.index).resample('10min').sum().replace(0.00, np.nan) \n",
    "# all_wl"
   ]
  },
  {
   "cell_type": "code",
   "execution_count": 49,
   "metadata": {},
   "outputs": [],
   "source": [
    "# There are several data points on the same day.\n",
    "# We assume that data is uniformly distributed across the day.\n",
    "# We will add a small time increment to each data point to make them unique.\n",
    "\n",
    "def add_time_stamps(df):\n",
    "    # Resample dates with duplicate indices by adding hours and minutes\n",
    "    # Find duplicate dates in index\n",
    "    duplicate_dates = df.index[df.index.duplicated(keep=False)]\n",
    "    \n",
    "    for date in set(duplicate_dates):\n",
    "        duplicates = df.loc[date]\n",
    "        # Calculate time increment based on the number of duplicates\n",
    "        num_duplicates = len(duplicates)\n",
    "        time_increment = datetime.timedelta(days=1) / num_duplicates\n",
    "\n",
    "        # Assign new unique timestamps to each duplicate\n",
    "        times = [date + i * time_increment for i in range(len(duplicates))]\n",
    "        df.loc[date, 'new_index'] = times\n",
    "    \n",
    "    # Set the new unique datetime index\n",
    "    df.set_index('new_index', inplace=True)\n",
    "    df.index.name = 'datetime'  # Rename the index for clarity\n",
    "    \n",
    "    return df"
   ]
  },
  {
   "cell_type": "code",
   "execution_count": 50,
   "metadata": {},
   "outputs": [],
   "source": [
    "wl = add_time_stamps(wl)"
   ]
  },
  {
   "cell_type": "code",
   "execution_count": 51,
   "metadata": {},
   "outputs": [],
   "source": [
    "def load_and_save_CMEMS_data(obs_dir,platform_name):\n",
    "\n",
    "    all_wl_list = []\n",
    "    longitudes = []\n",
    "    latitudes = []\n",
    "    for o in obs_dir:\n",
    "        ds = nc.Dataset(o)\n",
    "        formatted_time = []\n",
    "        start = datetime.date(1950,1,1)\n",
    "        for days in ds[\"TIME\"][:].data:\n",
    "            formatted_time.append(start + datetime.timedelta(days = days))\n",
    "\n",
    "        data = ds[\"SLEV\"][:].data.squeeze().tolist()\n",
    "        lon = np.nanmean(ds[\"LONGITUDE\"][:].data)\n",
    "        lat = np.nanmean(ds[\"LATITUDE\"][:].data)\n",
    "        longitudes.append(lon)\n",
    "        latitudes.append(lat) \n",
    "\n",
    "        wl = pd.DataFrame({\"slev\": data}, index = pd.DatetimeIndex(formatted_time))\n",
    "        quality_filter = ds[\"SLEV_QC\"][:].data<=2\n",
    "        wl = wl[quality_filter]\n",
    "        wl = wl.drop(wl[wl['slev'] < -100].index)# Remove invalid values\n",
    "        wl[\"slev\"] = wl[\"slev\"]-np.mean(wl[\"slev\"])# Center around zero\n",
    "\n",
    "        #  Add timestamps\n",
    "        wl = add_time_stamps(wl)\n",
    "        \n",
    "        all_wl_list.append(wl)\n",
    "\n",
    "    all_wl=pd.concat(all_wl_list)\n",
    "    # Replace missing entries with nan such that we have a full date time index\n",
    "    all_wl = all_wl.set_index(all_wl.index).resample('10min').sum().replace(0.00, np.nan) \n",
    "    # Rolling mean value\n",
    "    all_wl_rollmean = all_wl.rolling(window='30min',closed=\"left\").mean()[::3]\n",
    "    all_wl_rollmean = all_wl_rollmean.dropna()\n",
    "    all_wl_rollmean.index.name = \"datetime_UTC\"\n",
    "    all_wl_rollmean.columns = [\"water_level\"]\n",
    "    all_wl_rollmean.to_csv(f\"../observations/{platform_name}_wl.csv\")\n",
    "\n",
    "    locations = pd.DataFrame({\"station\": [platform_name],\n",
    "                              \"longitude\": [np.round(np.mean(longitudes),decimals=6)],\n",
    "                              \"latitude\": [np.round(np.mean(latitudes),decimals=6)]})\n",
    "    locations_all = pd.read_csv(\"../observations/stations.csv\",index_col=0)\n",
    "    locations_all = pd.concat([locations_all,locations])\n",
    "    locations_all.to_csv(\"../observations/stations.csv\")\n",
    "\n",
    "    return all_wl_rollmean,all_wl"
   ]
  },
  {
   "cell_type": "code",
   "execution_count": 53,
   "metadata": {},
   "outputs": [
    {
     "data": {
      "text/plain": [
       "(                     water_level\n",
       " datetime_UTC                    \n",
       " 2022-01-01 00:30:00    -0.301217\n",
       " 2022-01-01 01:00:00    -0.271217\n",
       " 2022-01-01 01:30:00    -0.197883\n",
       " 2022-01-01 02:00:00    -0.077883\n",
       " 2022-01-01 02:30:00     0.055450\n",
       " ...                          ...\n",
       " 2023-12-31 21:30:00     0.075855\n",
       " 2023-12-31 22:00:00     0.052522\n",
       " 2023-12-31 22:30:00     0.045855\n",
       " 2023-12-31 23:00:00     0.032522\n",
       " 2023-12-31 23:30:00     0.012522\n",
       " \n",
       " [35009 rows x 1 columns],\n",
       "                          slev\n",
       " datetime                     \n",
       " 2022-01-01 00:00:00 -0.311217\n",
       " 2022-01-01 00:10:00 -0.301217\n",
       " 2022-01-01 00:20:00 -0.291217\n",
       " 2022-01-01 00:30:00 -0.281217\n",
       " 2022-01-01 00:40:00 -0.271217\n",
       " ...                       ...\n",
       " 2023-12-31 23:00:00  0.012522\n",
       " 2023-12-31 23:10:00  0.022522\n",
       " 2023-12-31 23:20:00  0.002522\n",
       " 2023-12-31 23:30:00 -0.007478\n",
       " 2023-12-31 23:40:00 -0.017478\n",
       " \n",
       " [105119 rows x 1 columns])"
      ]
     },
     "execution_count": 53,
     "metadata": {},
     "output_type": "execute_result"
    }
   ],
   "source": [
    "# Collect observation directories in list\n",
    "obs_fldr = \"raw_data/F3platform/\"\n",
    "obs_dir = [f\"{obs_fldr}NO_TS_TG_F3platformTG_{year}{month:02d}.nc\" for year in [2022,2023] for month in range(1, 13)]\n",
    "load_and_save_CMEMS_data(obs_dir,\"F3platform\")"
   ]
  },
  {
   "cell_type": "markdown",
   "metadata": {},
   "source": [
    "# K13a"
   ]
  },
  {
   "cell_type": "code",
   "execution_count": 54,
   "metadata": {},
   "outputs": [
    {
     "data": {
      "text/plain": [
       "<class 'netCDF4.Variable'>\n",
       "float64 TIME(TIME)\n",
       "    long_name: Time\n",
       "    standard_name: time\n",
       "    units: days since 1950-01-01T00:00:00Z\n",
       "    valid_min: -90000.0\n",
       "    valid_max: 90000.0\n",
       "    axis: T\n",
       "    ancillary_variables: TIME_QC\n",
       "    calendar: standard\n",
       "unlimited dimensions: \n",
       "current shape = (4276,)\n",
       "filling on, default _FillValue of 9.969209968386869e+36 used"
      ]
     },
     "execution_count": 54,
     "metadata": {},
     "output_type": "execute_result"
    }
   ],
   "source": [
    "# The modelskill package can be used to compare model results with observations.\n",
    "# For more info on modelskill, see https://github.com/DHI/modelskill\n",
    "obs_fldr = \"raw_data/K13a/\"\n",
    "# Collect observation directories in list\n",
    "obs_dir = [f\"{obs_fldr}NO_TS_TG_K13aTG_{year}{month:02d}.nc\" for year in [2022,2023] for month in range(1, 13)]\n",
    "\n",
    "ds = nc.Dataset(obs_dir[0])\n",
    "ds[\"TIME\"]"
   ]
  },
  {
   "cell_type": "code",
   "execution_count": 55,
   "metadata": {},
   "outputs": [
    {
     "data": {
      "text/plain": [
       "(                     water_level\n",
       " datetime_UTC                    \n",
       " 2022-01-01 00:30:00    -0.212732\n",
       " 2022-01-01 01:00:00    -0.112732\n",
       " 2022-01-01 01:30:00    -0.002732\n",
       " 2022-01-01 02:00:00     0.123935\n",
       " 2022-01-01 02:30:00     0.243935\n",
       " ...                          ...\n",
       " 2023-12-31 21:30:00     0.714932\n",
       " 2023-12-31 22:00:00     0.724932\n",
       " 2023-12-31 22:30:00     0.678266\n",
       " 2023-12-31 23:00:00     0.594932\n",
       " 2023-12-31 23:30:00     0.504932\n",
       " \n",
       " [33887 rows x 1 columns],\n",
       "                          slev\n",
       " datetime                     \n",
       " 2022-01-01 00:00:00 -0.242732\n",
       " 2022-01-01 00:10:00 -0.212732\n",
       " 2022-01-01 00:20:00 -0.182732\n",
       " 2022-01-01 00:30:00 -0.152732\n",
       " 2022-01-01 00:40:00 -0.112732\n",
       " ...                       ...\n",
       " 2023-12-31 23:10:00  0.504932\n",
       " 2023-12-31 23:20:00  0.464932\n",
       " 2023-12-31 23:30:00  0.444932\n",
       " 2023-12-31 23:40:00  0.384932\n",
       " 2023-12-31 23:50:00  0.354932\n",
       " \n",
       " [105120 rows x 1 columns])"
      ]
     },
     "execution_count": 55,
     "metadata": {},
     "output_type": "execute_result"
    }
   ],
   "source": [
    "load_and_save_CMEMS_data(obs_dir,\"K13a\")"
   ]
  },
  {
   "cell_type": "markdown",
   "metadata": {},
   "source": [
    "# Europlatform"
   ]
  },
  {
   "cell_type": "code",
   "execution_count": 56,
   "metadata": {},
   "outputs": [
    {
     "data": {
      "text/plain": [
       "<class 'netCDF4.Variable'>\n",
       "float64 TIME(TIME)\n",
       "    long_name: Time\n",
       "    standard_name: time\n",
       "    units: days since 1950-01-01T00:00:00Z\n",
       "    valid_min: -90000.0\n",
       "    valid_max: 90000.0\n",
       "    axis: T\n",
       "    ancillary_variables: TIME_QC\n",
       "    calendar: standard\n",
       "unlimited dimensions: \n",
       "current shape = (4456,)\n",
       "filling on, default _FillValue of 9.969209968386869e+36 used"
      ]
     },
     "execution_count": 56,
     "metadata": {},
     "output_type": "execute_result"
    }
   ],
   "source": [
    "# The modelskill package can be used to compare model results with observations.\n",
    "# For more info on modelskill, see https://github.com/DHI/modelskill\n",
    "obs_fldr = \"raw_data/Europlatform/\"\n",
    "# Collect observation directories in list\n",
    "obs_dir = [f\"{obs_fldr}NO_TS_TG_EuroplatformTG_{year}{month:02d}.nc\" for year in [2022,2023] for month in range(1, 13)]\n",
    "\n",
    "ds = nc.Dataset(obs_dir[0])\n",
    "ds[\"TIME\"]"
   ]
  },
  {
   "cell_type": "code",
   "execution_count": 57,
   "metadata": {},
   "outputs": [
    {
     "data": {
      "text/plain": [
       "(                     water_level\n",
       " datetime_UTC                    \n",
       " 2022-01-01 00:30:00     0.882968\n",
       " 2022-01-01 01:00:00     0.712968\n",
       " 2022-01-01 01:30:00     0.556302\n",
       " 2022-01-01 02:00:00     0.372968\n",
       " 2022-01-01 02:30:00     0.162968\n",
       " ...                          ...\n",
       " 2023-12-31 21:30:00    -0.233154\n",
       " 2023-12-31 22:00:00    -0.219820\n",
       " 2023-12-31 22:30:00    -0.206487\n",
       " 2023-12-31 23:00:00    -0.199820\n",
       " 2023-12-31 23:30:00    -0.153154\n",
       " \n",
       " [34560 rows x 1 columns],\n",
       "                          slev\n",
       " datetime                     \n",
       " 2022-01-01 00:00:00  0.936302\n",
       " 2022-01-01 00:10:00  0.886302\n",
       " 2022-01-01 00:20:00  0.826302\n",
       " 2022-01-01 00:30:00  0.766302\n",
       " 2022-01-01 00:40:00  0.706302\n",
       " ...                       ...\n",
       " 2023-12-31 23:10:00 -0.159820\n",
       " 2023-12-31 23:20:00 -0.139820\n",
       " 2023-12-31 23:30:00 -0.129820\n",
       " 2023-12-31 23:40:00 -0.099820\n",
       " 2023-12-31 23:50:00 -0.089820\n",
       " \n",
       " [105120 rows x 1 columns])"
      ]
     },
     "execution_count": 57,
     "metadata": {},
     "output_type": "execute_result"
    }
   ],
   "source": [
    "load_and_save_CMEMS_data(obs_dir,\"Europlatform\")"
   ]
  },
  {
   "cell_type": "markdown",
   "metadata": {},
   "source": [
    "# J61"
   ]
  },
  {
   "cell_type": "code",
   "execution_count": 58,
   "metadata": {},
   "outputs": [
    {
     "data": {
      "text/plain": [
       "<class 'netCDF4.Variable'>\n",
       "float64 TIME(TIME)\n",
       "    long_name: Time\n",
       "    standard_name: time\n",
       "    units: days since 1950-01-01T00:00:00Z\n",
       "    valid_min: -90000.0\n",
       "    valid_max: 90000.0\n",
       "    axis: T\n",
       "    ancillary_variables: TIME_QC\n",
       "    calendar: standard\n",
       "unlimited dimensions: \n",
       "current shape = (4454,)\n",
       "filling on, default _FillValue of 9.969209968386869e+36 used"
      ]
     },
     "execution_count": 58,
     "metadata": {},
     "output_type": "execute_result"
    }
   ],
   "source": [
    "# The modelskill package can be used to compare model results with observations.\n",
    "# For more info on modelskill, see https://github.com/DHI/modelskill\n",
    "obs_fldr = \"raw_data/J61/\"\n",
    "# Collect observation directories in list\n",
    "obs_dir = [f\"{obs_fldr}NO_TS_TG_J61TG_{year}{month:02d}.nc\" for year in [2022,2023] for month in range(1, 13)]\n",
    "\n",
    "ds = nc.Dataset(obs_dir[0])\n",
    "ds[\"TIME\"]"
   ]
  },
  {
   "cell_type": "code",
   "execution_count": 59,
   "metadata": {},
   "outputs": [],
   "source": [
    "all_wl_rollmean,all_wl = load_and_save_CMEMS_data(obs_dir,\"J61\")"
   ]
  },
  {
   "cell_type": "code",
   "execution_count": 60,
   "metadata": {},
   "outputs": [
    {
     "data": {
      "text/html": [
       "<div>\n",
       "<style scoped>\n",
       "    .dataframe tbody tr th:only-of-type {\n",
       "        vertical-align: middle;\n",
       "    }\n",
       "\n",
       "    .dataframe tbody tr th {\n",
       "        vertical-align: top;\n",
       "    }\n",
       "\n",
       "    .dataframe thead th {\n",
       "        text-align: right;\n",
       "    }\n",
       "</style>\n",
       "<table border=\"1\" class=\"dataframe\">\n",
       "  <thead>\n",
       "    <tr style=\"text-align: right;\">\n",
       "      <th></th>\n",
       "      <th>slev</th>\n",
       "    </tr>\n",
       "    <tr>\n",
       "      <th>datetime</th>\n",
       "      <th></th>\n",
       "    </tr>\n",
       "  </thead>\n",
       "  <tbody>\n",
       "    <tr>\n",
       "      <th>2022-01-01 00:00:00</th>\n",
       "      <td>-0.384454</td>\n",
       "    </tr>\n",
       "    <tr>\n",
       "      <th>2022-01-01 00:10:00</th>\n",
       "      <td>-0.324454</td>\n",
       "    </tr>\n",
       "    <tr>\n",
       "      <th>2022-01-01 00:20:00</th>\n",
       "      <td>-0.264454</td>\n",
       "    </tr>\n",
       "    <tr>\n",
       "      <th>2022-01-01 00:30:00</th>\n",
       "      <td>-0.204454</td>\n",
       "    </tr>\n",
       "    <tr>\n",
       "      <th>2022-01-01 00:40:00</th>\n",
       "      <td>-0.134454</td>\n",
       "    </tr>\n",
       "    <tr>\n",
       "      <th>...</th>\n",
       "      <td>...</td>\n",
       "    </tr>\n",
       "    <tr>\n",
       "      <th>2023-12-31 23:10:00</th>\n",
       "      <td>0.378118</td>\n",
       "    </tr>\n",
       "    <tr>\n",
       "      <th>2023-12-31 23:20:00</th>\n",
       "      <td>0.318118</td>\n",
       "    </tr>\n",
       "    <tr>\n",
       "      <th>2023-12-31 23:30:00</th>\n",
       "      <td>0.258118</td>\n",
       "    </tr>\n",
       "    <tr>\n",
       "      <th>2023-12-31 23:40:00</th>\n",
       "      <td>0.228118</td>\n",
       "    </tr>\n",
       "    <tr>\n",
       "      <th>2023-12-31 23:50:00</th>\n",
       "      <td>0.178118</td>\n",
       "    </tr>\n",
       "  </tbody>\n",
       "</table>\n",
       "<p>105120 rows × 1 columns</p>\n",
       "</div>"
      ],
      "text/plain": [
       "                         slev\n",
       "datetime                     \n",
       "2022-01-01 00:00:00 -0.384454\n",
       "2022-01-01 00:10:00 -0.324454\n",
       "2022-01-01 00:20:00 -0.264454\n",
       "2022-01-01 00:30:00 -0.204454\n",
       "2022-01-01 00:40:00 -0.134454\n",
       "...                       ...\n",
       "2023-12-31 23:10:00  0.378118\n",
       "2023-12-31 23:20:00  0.318118\n",
       "2023-12-31 23:30:00  0.258118\n",
       "2023-12-31 23:40:00  0.228118\n",
       "2023-12-31 23:50:00  0.178118\n",
       "\n",
       "[105120 rows x 1 columns]"
      ]
     },
     "execution_count": 60,
     "metadata": {},
     "output_type": "execute_result"
    }
   ],
   "source": [
    "all_wl\n"
   ]
  },
  {
   "cell_type": "code",
   "execution_count": 61,
   "metadata": {},
   "outputs": [
    {
     "data": {
      "text/html": [
       "<div>\n",
       "<style scoped>\n",
       "    .dataframe tbody tr th:only-of-type {\n",
       "        vertical-align: middle;\n",
       "    }\n",
       "\n",
       "    .dataframe tbody tr th {\n",
       "        vertical-align: top;\n",
       "    }\n",
       "\n",
       "    .dataframe thead th {\n",
       "        text-align: right;\n",
       "    }\n",
       "</style>\n",
       "<table border=\"1\" class=\"dataframe\">\n",
       "  <thead>\n",
       "    <tr style=\"text-align: right;\">\n",
       "      <th></th>\n",
       "      <th>water_level</th>\n",
       "    </tr>\n",
       "    <tr>\n",
       "      <th>datetime_UTC</th>\n",
       "      <th></th>\n",
       "    </tr>\n",
       "  </thead>\n",
       "  <tbody>\n",
       "    <tr>\n",
       "      <th>2022-01-01 00:30:00</th>\n",
       "      <td>-0.324454</td>\n",
       "    </tr>\n",
       "    <tr>\n",
       "      <th>2022-01-01 01:00:00</th>\n",
       "      <td>-0.137788</td>\n",
       "    </tr>\n",
       "    <tr>\n",
       "      <th>2022-01-01 01:30:00</th>\n",
       "      <td>0.038879</td>\n",
       "    </tr>\n",
       "    <tr>\n",
       "      <th>2022-01-01 02:00:00</th>\n",
       "      <td>0.222212</td>\n",
       "    </tr>\n",
       "    <tr>\n",
       "      <th>2022-01-01 02:30:00</th>\n",
       "      <td>0.392212</td>\n",
       "    </tr>\n",
       "    <tr>\n",
       "      <th>...</th>\n",
       "      <td>...</td>\n",
       "    </tr>\n",
       "    <tr>\n",
       "      <th>2023-12-31 21:30:00</th>\n",
       "      <td>0.718118</td>\n",
       "    </tr>\n",
       "    <tr>\n",
       "      <th>2023-12-31 22:00:00</th>\n",
       "      <td>0.691451</td>\n",
       "    </tr>\n",
       "    <tr>\n",
       "      <th>2023-12-31 22:30:00</th>\n",
       "      <td>0.604784</td>\n",
       "    </tr>\n",
       "    <tr>\n",
       "      <th>2023-12-31 23:00:00</th>\n",
       "      <td>0.491451</td>\n",
       "    </tr>\n",
       "    <tr>\n",
       "      <th>2023-12-31 23:30:00</th>\n",
       "      <td>0.374784</td>\n",
       "    </tr>\n",
       "  </tbody>\n",
       "</table>\n",
       "<p>35038 rows × 1 columns</p>\n",
       "</div>"
      ],
      "text/plain": [
       "                     water_level\n",
       "datetime_UTC                    \n",
       "2022-01-01 00:30:00    -0.324454\n",
       "2022-01-01 01:00:00    -0.137788\n",
       "2022-01-01 01:30:00     0.038879\n",
       "2022-01-01 02:00:00     0.222212\n",
       "2022-01-01 02:30:00     0.392212\n",
       "...                          ...\n",
       "2023-12-31 21:30:00     0.718118\n",
       "2023-12-31 22:00:00     0.691451\n",
       "2023-12-31 22:30:00     0.604784\n",
       "2023-12-31 23:00:00     0.491451\n",
       "2023-12-31 23:30:00     0.374784\n",
       "\n",
       "[35038 rows x 1 columns]"
      ]
     },
     "execution_count": 61,
     "metadata": {},
     "output_type": "execute_result"
    }
   ],
   "source": [
    "all_wl_rollmean"
   ]
  },
  {
   "cell_type": "code",
   "execution_count": 68,
   "metadata": {},
   "outputs": [
    {
     "data": {
      "text/plain": [
       "['NWA', 'IJVA', 'DDW1A', 'F3platform', 'K13a', 'Europlatform', 'J61']"
      ]
     },
     "execution_count": 68,
     "metadata": {},
     "output_type": "execute_result"
    }
   ],
   "source": [
    "locations_all[\"station\"].values.tolist()"
   ]
  },
  {
   "cell_type": "code",
   "execution_count": 80,
   "metadata": {},
   "outputs": [],
   "source": [
    "# Reindex the stations file \n",
    "# locations_all = pd.read_csv(\"../observations/stations.csv\",index_col=0)\n",
    "locations_all.index = locations_all[\"station\"].values.tolist()\n",
    "locations_all.index.name=\"station\"\n",
    "locations_all.drop(columns=[\"station\"],inplace=True)\n",
    "locations_all.columns = [\"Longitude\",\"Latitude\"]\n",
    "locations_all.to_csv(\"../observations/stations.csv\")"
   ]
  },
  {
   "cell_type": "code",
   "execution_count": null,
   "metadata": {},
   "outputs": [],
   "source": []
  }
 ],
 "metadata": {
  "kernelspec": {
   "display_name": "WBOresund",
   "language": "python",
   "name": "python3"
  },
  "language_info": {
   "codemirror_mode": {
    "name": "ipython",
    "version": 3
   },
   "file_extension": ".py",
   "mimetype": "text/x-python",
   "name": "python",
   "nbconvert_exporter": "python",
   "pygments_lexer": "ipython3",
   "version": "3.12.8"
  }
 },
 "nbformat": 4,
 "nbformat_minor": 2
}
