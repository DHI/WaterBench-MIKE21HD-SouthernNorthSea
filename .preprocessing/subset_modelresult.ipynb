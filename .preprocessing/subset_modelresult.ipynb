{
 "cells": [
  {
   "cell_type": "code",
   "execution_count": 70,
   "metadata": {},
   "outputs": [],
   "source": [
    "import mikeio"
   ]
  },
  {
   "cell_type": "code",
   "execution_count": 71,
   "metadata": {},
   "outputs": [],
   "source": [
    "mr_fldr = \"../output/\"\n",
    "out_fldr = \"../output_sample/\"\n",
    "files = [\"Area.dfsu\", \"Points.dfs0\"]\n",
    "time_slice = slice(\"2023-01-01\",\"2023-01-08 00:00\")"
   ]
  },
  {
   "cell_type": "code",
   "execution_count": 72,
   "metadata": {},
   "outputs": [
    {
     "name": "stdout",
     "output_type": "stream",
     "text": [
      "Processing Area.dfsu\n",
      "Processing Points.dfs0\n"
     ]
    }
   ],
   "source": [
    "for fn in files:\n",
    "    print(f\"Processing {fn}\")\n",
    "    ds = mikeio.read(mr_fldr + fn, time=time_slice)\n",
    "    ds.to_dfs(out_fldr + fn)"
   ]
  }
 ],
 "metadata": {
  "kernelspec": {
   "display_name": "WBOresund",
   "language": "python",
   "name": "python3"
  },
  "language_info": {
   "codemirror_mode": {
    "name": "ipython",
    "version": 3
   },
   "file_extension": ".py",
   "mimetype": "text/x-python",
   "name": "python",
   "nbconvert_exporter": "python",
   "pygments_lexer": "ipython3",
   "version": "3.12.8"
  }
 },
 "nbformat": 4,
 "nbformat_minor": 2
}
