{
 "cells": [
  {
   "cell_type": "code",
   "execution_count": 1,
   "metadata": {},
   "outputs": [],
   "source": [
    "import mikeio"
   ]
  },
  {
   "cell_type": "code",
   "execution_count": 2,
   "metadata": {},
   "outputs": [],
   "source": [
    "mr_fldr = \"../output/\""
   ]
  },
  {
   "cell_type": "markdown",
   "metadata": {},
   "source": [
    "## Add new data to Points.dfs0"
   ]
  },
  {
   "cell_type": "markdown",
   "metadata": {},
   "source": [
    "The stations Dover, Lowestoft and Cromer were not part of the simulation that has been run"
   ]
  },
  {
   "cell_type": "markdown",
   "metadata": {},
   "source": [
    "- [ ] Include stations in points.dfs0\n",
    "- [ ] Include stations as outputs in setup file\n",
    "- [ ] Add to sample data"
   ]
  },
  {
   "cell_type": "code",
   "execution_count": 3,
   "metadata": {},
   "outputs": [
    {
     "data": {
      "text/plain": [
       "[NWA: Surface elevation <Surface Elevation> (meter),\n",
       " IJVA: Surface elevation <Surface Elevation> (meter),\n",
       " DDW1A: Surface elevation <Surface Elevation> (meter),\n",
       " F3platform: Surface elevation <Surface Elevation> (meter),\n",
       " K13a: Surface elevation <Surface Elevation> (meter),\n",
       " Europlatform: Surface elevation <Surface Elevation> (meter),\n",
       " J61: Surface elevation <Surface Elevation> (meter),\n",
       " NWA: U velocity <u velocity component> (meter per sec),\n",
       " IJVA: U velocity <u velocity component> (meter per sec),\n",
       " DDW1A: U velocity <u velocity component> (meter per sec),\n",
       " F3platform: U velocity <u velocity component> (meter per sec),\n",
       " K13a: U velocity <u velocity component> (meter per sec),\n",
       " Europlatform: U velocity <u velocity component> (meter per sec),\n",
       " J61: U velocity <u velocity component> (meter per sec),\n",
       " NWA: V velocity <v velocity component> (meter per sec),\n",
       " IJVA: V velocity <v velocity component> (meter per sec),\n",
       " DDW1A: V velocity <v velocity component> (meter per sec),\n",
       " F3platform: V velocity <v velocity component> (meter per sec),\n",
       " K13a: V velocity <v velocity component> (meter per sec),\n",
       " Europlatform: V velocity <v velocity component> (meter per sec),\n",
       " J61: V velocity <v velocity component> (meter per sec)]"
      ]
     },
     "execution_count": 3,
     "metadata": {},
     "output_type": "execute_result"
    }
   ],
   "source": [
    "\n",
    "fn = \"Points.dfs0\"\n",
    "dsp = mikeio.read(mr_fldr + fn)\n",
    "dsp.items\n"
   ]
  },
  {
   "cell_type": "code",
   "execution_count": 4,
   "metadata": {},
   "outputs": [],
   "source": [
    "fn = \"Area.dfsu\"\n",
    "dsa = mikeio.read(mr_fldr + fn)\n",
    "p1 = dsa.sel(x=1.32267,y=51.11439)\n",
    "p2 = dsa.sel(x=1.75011,y= 52.47311)\n",
    "p3 = dsa.sel(x=1.3016,y= 52.9343)"
   ]
  },
  {
   "cell_type": "code",
   "execution_count": 5,
   "metadata": {},
   "outputs": [
    {
     "data": {
      "text/plain": [
       "[NWA: Surface elevation <Surface Elevation> (meter),\n",
       " IJVA: Surface elevation <Surface Elevation> (meter),\n",
       " DDW1A: Surface elevation <Surface Elevation> (meter),\n",
       " F3platform: Surface elevation <Surface Elevation> (meter),\n",
       " K13a: Surface elevation <Surface Elevation> (meter),\n",
       " Europlatform: Surface elevation <Surface Elevation> (meter),\n",
       " J61: Surface elevation <Surface Elevation> (meter),\n",
       " NWA: U velocity <u velocity component> (meter per sec),\n",
       " IJVA: U velocity <u velocity component> (meter per sec),\n",
       " DDW1A: U velocity <u velocity component> (meter per sec),\n",
       " F3platform: U velocity <u velocity component> (meter per sec),\n",
       " K13a: U velocity <u velocity component> (meter per sec),\n",
       " Europlatform: U velocity <u velocity component> (meter per sec),\n",
       " J61: U velocity <u velocity component> (meter per sec),\n",
       " NWA: V velocity <v velocity component> (meter per sec),\n",
       " IJVA: V velocity <v velocity component> (meter per sec),\n",
       " DDW1A: V velocity <v velocity component> (meter per sec),\n",
       " F3platform: V velocity <v velocity component> (meter per sec),\n",
       " K13a: V velocity <v velocity component> (meter per sec),\n",
       " Europlatform: V velocity <v velocity component> (meter per sec),\n",
       " J61: V velocity <v velocity component> (meter per sec),\n",
       " Dover: Surface elevation <Surface Elevation> (meter),\n",
       " Dover: U velocity <u velocity component> (meter per sec),\n",
       " Dover: V velocity <v velocity component> (meter per sec),\n",
       " Lowestoft: Surface elevation <Surface Elevation> (meter),\n",
       " Lowestoft: U velocity <u velocity component> (meter per sec),\n",
       " Lowestoft: V velocity <v velocity component> (meter per sec),\n",
       " Cromer: Surface elevation <Surface Elevation> (meter),\n",
       " Cromer: U velocity <u velocity component> (meter per sec),\n",
       " Cromer: V velocity <v velocity component> (meter per sec)]"
      ]
     },
     "execution_count": 5,
     "metadata": {},
     "output_type": "execute_result"
    }
   ],
   "source": [
    "for i in range(3):\n",
    "    dsp[f\"Dover: {p1[i].name}\"] = p1[i]\n",
    "for i in range(3):\n",
    "    dsp[f\"Lowestoft: {p2[i].name}\"] = p2[i]\n",
    "for i in range(3):\n",
    "    dsp[f\"Cromer: {p3[i].name}\"] = p3[i]\n",
    "dsp.items"
   ]
  },
  {
   "cell_type": "code",
   "execution_count": 6,
   "metadata": {},
   "outputs": [],
   "source": [
    "dsp.to_dfs(mr_fldr + \"Points.dfs0\")"
   ]
  },
  {
   "cell_type": "code",
   "execution_count": null,
   "metadata": {},
   "outputs": [],
   "source": []
  }
 ],
 "metadata": {
  "kernelspec": {
   "display_name": "WBOresund",
   "language": "python",
   "name": "python3"
  },
  "language_info": {
   "codemirror_mode": {
    "name": "ipython",
    "version": 3
   },
   "file_extension": ".py",
   "mimetype": "text/x-python",
   "name": "python",
   "nbconvert_exporter": "python",
   "pygments_lexer": "ipython3",
   "version": "3.12.8"
  }
 },
 "nbformat": 4,
 "nbformat_minor": 2
}
